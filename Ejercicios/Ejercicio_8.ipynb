{
  "cells": [
    {
      "cell_type": "markdown",
      "metadata": {
        "id": "O6oe-FZPXiJJ"
      },
      "source": [
        "### Ejercicio 6.1 (Chequear si un árbol es AVL en tiempo lineal)\n",
        "\n",
        "En este ejercicio usted debe modificar la implementación dada para asegurar que cada nodo del árbol se visite solo una vez, asegurando de esta manera que el costo de determinar si un árbol es AVL sea $\\Theta(n)$.\n",
        "\n",
        "Para esto, usted debe fusionar las funciones ``altura`` y ``es_AVL``en una sola función ``altura_AVL``, que retorne una tupla $(h,a)$, donde $h$ es la altura y $a$ es un booleano que dice si el árbol es AVL. De esta manera, al invocar la función se tiene de una sola vez toda la información necesaria."
      ]
    },
    {
      "cell_type": "code",
      "execution_count": null,
      "metadata": {
        "collapsed": true,
        "id": "6oAzmbElXiJN"
      },
      "outputs": [],
      "source": [
        "class Nodoi:\n",
        "    def __init__(self, izq, info, der):\n",
        "        self.izq = izq\n",
        "        self.info = info\n",
        "        self.der = der\n",
        "\n",
        "    def altura_AVL(self):\n",
        "        #Vemos la altura del subarbol y si la parte izquiera es o no arbol AVL, igualmente para la parte derecha\n",
        "        altura_AVL_izq, AVL_izq = self.izq.altura_AVL() if self.izq else (0, True)\n",
        "        altura_AVL_der, AVL_der = self.der.altura_AVL() if self.der else (0, True)\n",
        "        altura = 1 + max(altura_AVL_izq, altura_AVL_der)\n",
        "        es_AVL = abs(altura_AVL_der - altura_AVL_der) <= 1 and AVL_izq and AVL_der #Chequeamos si cumple con la definición de ser AVL\n",
        "        return (altura, es_AVL) #Se retorna la tupla con la altura y si es o no un Árbol AVL\n",
        "\n",
        "    def __str__(self):\n",
        "        return \"(\" + self.izq.__str__() + str(self.info) + self.der.__str__() + \")\"\n",
        "\n",
        "class Nodoe:\n",
        "    def __init__(self):\n",
        "        pass\n",
        "\n",
        "    def altura_AVL(self):\n",
        "        return (0, True)\n",
        "\n",
        "    def __str__(self):\n",
        "        return \"☐\"\n",
        "\n",
        "class Arbol:\n",
        "    def __init__(self, raiz=Nodoe()):\n",
        "        self.raiz = raiz\n",
        "\n",
        "    def es_AVL(self):\n",
        "        return self.raiz.altura_AVL()[1]\n",
        "\n",
        "    def __str__(self):\n",
        "        return self.raiz.__str__()"
      ]
    },
    {
      "cell_type": "markdown",
      "metadata": {
        "id": "PDPDBsUvXiJP"
      },
      "source": [
        "A continuación, pruébela con los dos árboles utilizados anteriormente:"
      ]
    },
    {
      "cell_type": "code",
      "execution_count": null,
      "metadata": {
        "collapsed": true,
        "id": "vpQqL7vqXiJP",
        "colab": {
          "base_uri": "https://localhost:8080/"
        },
        "outputId": "4791439e-8fe4-49ef-82a3-a0d8f42b4d4d"
      },
      "outputs": [
        {
          "output_type": "stream",
          "name": "stdout",
          "text": [
            "((☐1☐)2(☐3(☐4☐)))\n",
            "True\n"
          ]
        }
      ],
      "source": [
        "a1=Arbol(Nodoi(Nodoi(Nodoe(),1,Nodoe()),\n",
        "            2,\n",
        "            Nodoi(Nodoe(),3,Nodoi(Nodoe(),4,Nodoe()))))\n",
        "print(a1)\n",
        "print(a1.es_AVL())"
      ]
    },
    {
      "cell_type": "code",
      "execution_count": null,
      "metadata": {
        "collapsed": true,
        "id": "OlfXNvS5XiJP",
        "outputId": "8632f8fc-e6f3-4c78-f373-6b03dc648351",
        "colab": {
          "base_uri": "https://localhost:8080/"
        }
      },
      "outputs": [
        {
          "output_type": "stream",
          "name": "stdout",
          "text": [
            "((☐1☐)2(☐3(☐4(☐5☐))))\n",
            "True\n"
          ]
        }
      ],
      "source": [
        "a2=Arbol(Nodoi(Nodoi(Nodoe(),1,Nodoe()),\n",
        "            2,\n",
        "            Nodoi(Nodoe(),3,Nodoi(Nodoe(),4,Nodoi(Nodoe(),5,Nodoe())))))\n",
        "print(a2)\n",
        "print(a2.es_AVL())"
      ]
    },
    {
      "cell_type": "markdown",
      "metadata": {
        "id": "_cz8thJ-XiJQ"
      },
      "source": [
        "---"
      ]
    }
  ],
  "metadata": {
    "kernelspec": {
      "display_name": "Python 3",
      "language": "python",
      "name": "python3"
    },
    "language_info": {
      "codemirror_mode": {
        "name": "ipython",
        "version": 3
      },
      "file_extension": ".py",
      "mimetype": "text/x-python",
      "name": "python",
      "nbconvert_exporter": "python",
      "pygments_lexer": "ipython3",
      "version": "3.6.3"
    },
    "colab": {
      "provenance": []
    }
  },
  "nbformat": 4,
  "nbformat_minor": 0
}