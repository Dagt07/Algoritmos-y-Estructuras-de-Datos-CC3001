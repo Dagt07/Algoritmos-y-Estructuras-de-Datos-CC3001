{
  "cells": [
    {
      "cell_type": "markdown",
      "metadata": {
        "id": "vuROa7b5TT8l"
      },
      "source": [
        "### Ejercicio 4.5\n",
        "\n",
        "Suponga que los campos ``info`` de los nodos externos de un árbol contienen solo números y escriba una función que pueda invocarse como ``formula.evaluar()``, que al ser ejecutada entregue el valor numérico  de la fórmula representada por el árbol. Modifique a continuación la definición de las clases ``Arbol``, ``Nodoi`` y ``Nodoe`` para que incluyan la nueva función ``evaluar()``. Note que tiene que implementar la función ``evaluar()`` en las tres clases."
      ]
    },
    {
      "cell_type": "code",
      "execution_count": null,
      "metadata": {
        "id": "epGB1Tg5TT8l"
      },
      "outputs": [],
      "source": [
        "class Nodoi:\n",
        "    def __init__(self, izq, info, der):\n",
        "        self.izq=izq\n",
        "        self.info=info\n",
        "        self.der=der\n",
        "    def evaluar(self): #Evaluar() que hace calculos y va bajando por el arbol\n",
        "      if self.info == '+':\n",
        "        return self.izq.evaluar() + self.der.evaluar() #Cada vez que calculo algo retorno el valor para poder seguir operando en el futuro (arbol de más de 1 operación)\n",
        "      elif self.info == '-':\n",
        "        return self.izq.evaluar() - self.der.evaluar()\n",
        "      elif self.info == '*':\n",
        "        return self.izq.evaluar() * self.der.evaluar()\n",
        "      elif self.info == '/':\n",
        "        return self.izq.evaluar() / self.der.evaluar()\n",
        "      elif self.info == '^':\n",
        "        return self.izq.evaluar() ** self.der.evaluar()\n",
        "\n",
        "class Nodoe:\n",
        "    def __init__(self, info=\"\"):\n",
        "        self.info=info\n",
        "    def evaluar(self):  #Sabiendo que estamos parados en un Nodo externo, como por construcción del ejercicio este tendra si o si un número, debemos retornar su valor self.info\n",
        "      return self.info  #para que al desenrollar la recursión arriba se pueda operar por ejemplo: Nodoe(5) + Nodoe(2)\n",
        "\n",
        "class Arbol:\n",
        "    def __init__(self,raiz=Nodoe()):\n",
        "        self.raiz=raiz\n",
        "    def evaluar(self):\n",
        "      return self.raiz.evaluar() #Evaluar que desencadena la recursión dependiendo del tipo de nodo\n"
      ]
    },
    {
      "cell_type": "markdown",
      "metadata": {
        "id": "9TUzAmutTT8l"
      },
      "source": [
        "Pruébela a continuación:"
      ]
    },
    {
      "cell_type": "code",
      "execution_count": null,
      "metadata": {
        "id": "BxGFApX_TT8m",
        "colab": {
          "base_uri": "https://localhost:8080/"
        },
        "outputId": "1e12d362-55e1-48be-ea56-052268474ea6"
      },
      "outputs": [
        {
          "output_type": "stream",
          "name": "stdout",
          "text": [
            "35.0\n"
          ]
        }
      ],
      "source": [
        "formula= Arbol(\n",
        "            Nodoi(\n",
        "                Nodoi(Nodoe(5),\"+\",Nodoe(2)),\n",
        "                \"*\",\n",
        "                Nodoi(\n",
        "                    Nodoe(8),\n",
        "                    \"-\",\n",
        "                    Nodoi(Nodoe(9),\"/\",Nodoe(3))\n",
        "                )\n",
        "            )\n",
        "        )\n",
        "print(formula.evaluar())"
      ]
    },
    {
      "cell_type": "code",
      "source": [
        "#Mismo Arbol pero más ramificado, ie, con 1 nodo interno más para hacer la operación que calcula el 5\n",
        "formula2= Arbol(\n",
        "            Nodoi(\n",
        "                Nodoi(Nodoi(Nodoe(4),\"+\",Nodoe(1)),\"+\",Nodoe(2)),\n",
        "                \"*\",\n",
        "                Nodoi(\n",
        "                    Nodoe(8),\n",
        "                    \"-\",\n",
        "                    Nodoi(Nodoe(9),\"/\",Nodoe(3))\n",
        "                    )\n",
        "                )\n",
        "              )\n",
        "print(formula2.evaluar())"
      ],
      "metadata": {
        "colab": {
          "base_uri": "https://localhost:8080/"
        },
        "id": "ruyk5ggSuVG-",
        "outputId": "0c858258-7852-4cbd-f1e6-12a3bb918056"
      },
      "execution_count": null,
      "outputs": [
        {
          "output_type": "stream",
          "name": "stdout",
          "text": [
            "35.0\n"
          ]
        }
      ]
    }
  ],
  "metadata": {
    "kernelspec": {
      "display_name": "Python 3",
      "language": "python",
      "name": "python3"
    },
    "language_info": {
      "codemirror_mode": {
        "name": "ipython",
        "version": 3
      },
      "file_extension": ".py",
      "mimetype": "text/x-python",
      "name": "python",
      "nbconvert_exporter": "python",
      "pygments_lexer": "ipython3",
      "version": "3.6.9"
    },
    "colab": {
      "provenance": []
    }
  },
  "nbformat": 4,
  "nbformat_minor": 0
}