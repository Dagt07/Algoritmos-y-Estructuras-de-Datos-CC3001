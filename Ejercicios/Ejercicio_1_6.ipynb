{
  "cells": [
    {
      "cell_type": "markdown",
      "metadata": {
        "id": "MfU99Bh7XIZE"
      },
      "source": [
        "### Ejercicio 1.6 David Garcia - Generando números binarios\n",
        "Una función recursiva que genera e imprime todos los números binarios de ``n`` dígitos se puede plantear con un encabezado de la siguiente manera:"
      ]
    },
    {
      "cell_type": "code",
      "source": [
        "def genera_binarios(a,k,n):\n",
        "  #Aquí debes definir tu código\n",
        "\n",
        "  if k==n:\n",
        "    print(a) #Se imprime el arreglo a con sus digitos formando el numero binario\n",
        "  else:\n",
        "    a[k]=0 #0 en la posición actual\n",
        "    genera_binarios(a,k+1,n) #Debemos mover el programa con el grado de avance k, también para no caer en una recursión infinita\n",
        "    a[k]=1 #Se reemplaza el 0 de la posicion anterior por 1\n",
        "    genera_binarios(a,k+1,n) #Se vuelve a llamar recursivamente aumentando de nuevo el k para avanzar\n",
        "\n",
        "    #Tarde más de lo recomendado tratando de entender como funciona el algoritmo y lo que me paso, es que el algoritmo que nos propone:\n",
        "    #dice reemplazar el 0 anterior por 1 un en la \"misma k-esima posición\", yo por esto entiendo que al k-1 se le debe asignar 1 justo después de aumentar el k\n",
        "    #para respetar la anterior misma k-esima posición, pero esto mismo genera que no funcione correctamente la generación de numeros binarios.\n",
        "    #genera_binarios(a,k+1,n)\n",
        "    #a[k-1]=1\n",
        "    #genera_binarios(a,k+1,n)\n",
        "\n",
        "    #Finalmente la versión de arriba sin comentar resuelve correctamente el problema con recursión\n",
        ""
      ],
      "metadata": {
        "id": "qs_R5DXPUqCl"
      },
      "execution_count": null,
      "outputs": []
    },
    {
      "cell_type": "markdown",
      "metadata": {
        "id": "jGvAkR07XIZE"
      },
      "source": [
        "Donde ``a`` es un arreglo que contiene los unos y ceros de los números que se van generando, el cual se va rellenando con valores de izquierda a derecha, ``k`` es el grado de avance en el proceso de generación (más precisamente cuantos dígitos se han generado hasta esta llamada) y ``n`` es la cantidad total de dígitos que deben generarse (``n = len(a)``). Por lo tanto ``n-k`` es la cantidad de dígitos que faltan por generar. Esta función se llama la primera vez de la siguiente manera:"
      ]
    },
    {
      "cell_type": "code",
      "execution_count": null,
      "metadata": {
        "id": "YdNN1GTPXIZE",
        "colab": {
          "base_uri": "https://localhost:8080/"
        },
        "outputId": "0672ebb1-14dd-4817-fab7-a6d47a067204"
      },
      "outputs": [
        {
          "output_type": "stream",
          "name": "stdout",
          "text": [
            "[0 0 0 0]\n",
            "[0 0 0 1]\n",
            "[0 0 1 0]\n",
            "[0 0 1 1]\n",
            "[0 1 0 0]\n",
            "[0 1 0 1]\n",
            "[0 1 1 0]\n",
            "[0 1 1 1]\n",
            "[1 0 0 0]\n",
            "[1 0 0 1]\n",
            "[1 0 1 0]\n",
            "[1 0 1 1]\n",
            "[1 1 0 0]\n",
            "[1 1 0 1]\n",
            "[1 1 1 0]\n",
            "[1 1 1 1]\n"
          ]
        }
      ],
      "source": [
        "import numpy as np\n",
        "n = 4\n",
        "a = np.empty(n,dtype=int) # arreglo de largo n sin inicializar\n",
        "genera_binarios(a,0,len(a))"
      ]
    },
    {
      "cell_type": "markdown",
      "metadata": {
        "id": "ltYHhZQnXIZE"
      },
      "source": [
        "Este código debe generar la salida:\n",
        "\n",
        "[0 0 0 0]\n",
        "\n",
        "[0 0 0 1]\n",
        "\n",
        "[0 0 1 0]\n",
        "\n",
        "[0 0 1 1]\n",
        "\n",
        "[0 1 0 0]\n",
        "\n",
        "[0 1 0 1]\n",
        "\n",
        "[0 1 1 0]\n",
        "\n",
        "[0 1 1 1]\n",
        "\n",
        "[1 0 0 0]\n",
        "\n",
        "[1 0 0 1]\n",
        "\n",
        "[1 0 1 0]\n",
        "\n",
        "[1 0 1 1]\n",
        "\n",
        "[1 1 0 0]\n",
        "\n",
        "[1 1 0 1]\n",
        "\n",
        "[1 1 1 0]\n",
        "\n",
        "[1 1 1 1]"
      ]
    },
    {
      "cell_type": "markdown",
      "metadata": {
        "id": "9FkeIa7VXIZE"
      },
      "source": [
        "Se le pide que escriba las instrucciones de la función ``genera_binarios`` de acuerdo al siguiente algoritmo:\n",
        "\n",
        "---\n",
        "\n",
        "\n",
        "\n",
        "* si el valor de ``k`` es igual a ``n``, ya se han generado todos los dígitos por\n",
        "    lo cual se imprime el arreglo en pantalla ``(print(a))``\n",
        "* si no, se hacen dos cosas:  \n",
        "    - se pone un 0 en la ``k``-ésima posicion y se llama recursivamente\n",
        "      a la función para que genere los dígitos restantes\n",
        "    - luego se pone un 1 en la misma ``k``-ésima posición (reemplazando el 0) y se\n",
        "      llama recursivamente a la función para que genere los dígitos restantes\n",
        "\n",
        "Pruebe su función con para el caso ``n=4``. Asegúrese de que genere el mismo resultado que el que aparece en el enunciado.\n"
      ]
    }
  ],
  "metadata": {
    "kernelspec": {
      "display_name": "Python 3",
      "language": "python",
      "name": "python3"
    },
    "language_info": {
      "codemirror_mode": {
        "name": "ipython",
        "version": 3
      },
      "file_extension": ".py",
      "mimetype": "text/x-python",
      "name": "python",
      "nbconvert_exporter": "python",
      "pygments_lexer": "ipython3",
      "version": "3.6.9"
    },
    "colab": {
      "provenance": []
    }
  },
  "nbformat": 4,
  "nbformat_minor": 0
}