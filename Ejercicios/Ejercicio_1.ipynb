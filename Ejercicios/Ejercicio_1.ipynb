{
  "cells": [
    {
      "cell_type": "markdown",
      "metadata": {
        "id": "n7AUWA9SEXeH"
      },
      "source": [
        "### Ejercicio 1.2 DAVID GARCIA\n",
        "\n",
        "Existe un algoritmo alternativo a Hoare, que resulta en una codificación más sencilla. Este algoritmo, debido a **Lomuto**, se basa en el siguiente invariante:\n",
        "\n",
        "![particion-Lomuto](https://github.com/ivansipiran/AED-Apuntes/blob/main/recursos/particion-Lomuto.png?raw=1)\n",
        "\n",
        "En este algoritmo, en cada iteración, si $a[j]<p$, se intercambian $a[i]$ con $a[j]$ y se incrementa $i$, porque ahora hay un elemento más en el grupo de los menores que $p$. Después de esto, se incrementa $j$, *incondicionalmente* (¿por qué es correcto hacer eso?).\n",
        "\n",
        "Programe la partición de Lomuto en el recuadro siguiente y pruébela."
      ]
    },
    {
      "cell_type": "code",
      "execution_count": null,
      "metadata": {
        "id": "FnUr1WVvEXeJ"
      },
      "outputs": [],
      "source": [
        "def particionLomuto(a,p):\n",
        "    # retorna el punto de corte, el número de elementos <p y la lista particionada\n",
        "\n",
        "\n",
        "    # escribir acá el algoritmo de partición de Lomuto\n",
        "\n",
        "    n=len(a)\n",
        "    #(i,j)=(0,n-1) Asi se parte Hoare, con i a la izq y j a la derecha en n-1\n",
        "    (i,j)=(0,0) #Al igual que lo visto en clase todos los elementos de la lista inicialmente son desconocidos pero partimos con i y j en 0, de izquierda a derecha\n",
        "\n",
        "    #Invariante entra incializado en j=0\n",
        "\n",
        "    #Identificamos que se acaba cuando se alcanza el final de la lista, es decir, j = len(a-1)\n",
        "    while j <= n-1:\n",
        "      if a[j]<p:\n",
        "        (a[i],a[j])=(a[j],a[i]) #Se produce el intercambio\n",
        "        i+=1\n",
        "        j+=1\n",
        "      elif a[j]>p:\n",
        "            j+=1    #Siempre aumentando j para preservar que a la izquierda ya sabemos que tenemos lo ordenado y a la derecha lo desconocido\n",
        "    return (p,i,a)"
      ]
    },
    {
      "cell_type": "code",
      "execution_count": null,
      "metadata": {
        "id": "op9GvDmHEXeL"
      },
      "outputs": [],
      "source": [
        "def verifica_particion(t): # imprime y chequea partición\n",
        "    (p,m,a)=t\n",
        "    # p=punto de corte, m=número de elementos <p, a=lista completa particionada\n",
        "    print(a[0:m],p,a[m:])\n",
        "    print(\"Partición OK\" if (m==0 or max(a[0:m])<p) and (m==len(a) or min(a[m:])>p)\n",
        "          else \"Error\")"
      ]
    },
    {
      "cell_type": "code",
      "execution_count": null,
      "metadata": {
        "id": "2XAEPxWtEXeN",
        "outputId": "45ac4672-804c-4557-bf85-4835302078ae",
        "colab": {
          "base_uri": "https://localhost:8080/"
        }
      },
      "outputs": [
        {
          "output_type": "stream",
          "name": "stdout",
          "text": [
            "[21, 34, 37, 15, 36] 50 [73, 77, 65, 82, 98, 56]\n",
            "Partición OK\n"
          ]
        }
      ],
      "source": [
        "verifica_particion(particionLomuto([73,21,34,98,56,37,77,65,82,15,36],50))"
      ]
    },
    {
      "cell_type": "code",
      "execution_count": null,
      "metadata": {
        "id": "YGmWfVSKEXeO",
        "outputId": "871a7083-115d-4496-fc24-e8dc5e67d88d",
        "colab": {
          "base_uri": "https://localhost:8080/"
        }
      },
      "outputs": [
        {
          "output_type": "stream",
          "name": "stdout",
          "text": [
            "[] 0 [73, 21, 34, 98, 56, 37, 77, 65, 82, 15, 36]\n",
            "Partición OK\n"
          ]
        }
      ],
      "source": [
        "verifica_particion(particionLomuto([73,21,34,98,56,37,77,65,82,15,36],0))"
      ]
    },
    {
      "cell_type": "code",
      "execution_count": null,
      "metadata": {
        "id": "B6t4Q8l7EXeP",
        "outputId": "1a4e319b-82e6-46ca-deff-39b023596067",
        "colab": {
          "base_uri": "https://localhost:8080/"
        }
      },
      "outputs": [
        {
          "output_type": "stream",
          "name": "stdout",
          "text": [
            "[73, 21, 34, 98, 56, 37, 77, 65, 82, 15, 36] 100 []\n",
            "Partición OK\n"
          ]
        }
      ],
      "source": [
        "verifica_particion(particionLomuto([73,21,34,98,56,37,77,65,82,15,36],100))"
      ]
    }
  ],
  "metadata": {
    "kernelspec": {
      "display_name": "Python 3",
      "language": "python",
      "name": "python3"
    },
    "language_info": {
      "codemirror_mode": {
        "name": "ipython",
        "version": 3
      },
      "file_extension": ".py",
      "mimetype": "text/x-python",
      "name": "python",
      "nbconvert_exporter": "python",
      "pygments_lexer": "ipython3",
      "version": "3.6.9"
    },
    "colab": {
      "provenance": []
    }
  },
  "nbformat": 4,
  "nbformat_minor": 0
}