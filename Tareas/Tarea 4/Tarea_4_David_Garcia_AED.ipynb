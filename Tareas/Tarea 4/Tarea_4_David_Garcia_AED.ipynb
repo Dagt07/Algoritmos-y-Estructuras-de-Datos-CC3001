{
  "nbformat": 4,
  "nbformat_minor": 0,
  "metadata": {
    "kernelspec": {
      "display_name": "Python 3",
      "language": "python",
      "name": "python3"
    },
    "language_info": {
      "codemirror_mode": {
        "name": "ipython",
        "version": 3
      },
      "file_extension": ".py",
      "mimetype": "text/x-python",
      "name": "python",
      "nbconvert_exporter": "python",
      "pygments_lexer": "ipython3",
      "version": "3.7.1"
    },
    "colab": {
      "provenance": []
    }
  },
  "cells": [
    {
      "cell_type": "markdown",
      "metadata": {
        "id": "aHlFnqz2F2nU"
      },
      "source": [
        "# CC3001 Otoño 2023 Tarea 4\n",
        "# Generación de código\n",
        "\n",
        "Profesores: Iván Sipirán / Nelson Baloian / Patricio Poblete\n"
      ]
    },
    {
      "cell_type": "markdown",
      "metadata": {
        "id": "-t8wjUcsF2nV"
      },
      "source": [
        "El objetivo de esta tarea es aprender sobre la manipulación de árboles que representan fórmulas. Hay muchas cosas que uno puede hacer con estos árboles, y en esta tarea nos enfocaremos en particular en algo que los compiladores hacen: la **generación de código** para evaluar fórmulas.\n",
        "\n",
        "Específicamente, el problema es: dada una fórmula, generar una secuencia de instrucciones elementales que la evalúen. Por ejemplo, dada una fórmula como\n",
        "\n",
        "```\n",
        "(a+b)*(c-d)\n",
        "```\n",
        "\n",
        "se podría generar código como el siguiente:\n",
        "\n",
        "```\n",
        "t1=a+b\n",
        "t2=c-d\n",
        "t3=t1*t2\n",
        "```\n",
        "\n",
        "Las instrucciones elementales son siempre de la forma ``ti=x op y``, donde ``ti`` es una variable temporal, ``x`` e ``y`` pueden ser variables o números, y ``op`` es un operador. Uno va creando variables ``t1``, ``t2``, ... a medida que las necesita, y la última de ellas es la que almacena el valor final de la fórmula.\n",
        "\n",
        "Las fórmulas pueden ser arbitrariamente complicadas, como por ejemplo la fórmula\n",
        "\n",
        "$$\n",
        "(2-p\\,q)\\left( \\frac{1}{n}+\\frac{1}{p+q}\\right)\n",
        "$$\n",
        "\n",
        "la cual escribimos como\n",
        "\n",
        "```\n",
        "(2-p*q)*(1/n+1/(p+q))\n",
        "```\n",
        "\n",
        "y cuyo código generado podría ser,\n",
        "\n",
        "```\n",
        "t1=p*q\n",
        "t2=2-t1\n",
        "t3=1/n\n",
        "t4=p+q\n",
        "t5=1/t4\n",
        "t6=t3+t5\n",
        "t7=t2*t6\n",
        "```\n",
        "\n",
        "El objetivo de esta tarea es que usted implemente una función que, dado un árbol ya construído, lo recorra para generar una secuencia de instrucciones elementales que lo evalúe.\n",
        "\n",
        "A continuación usted encontrará clases ``Nodoi``, ``Nodoe`` y ``Arbol`` que implementan árboles que representan fórmulas. La clase ``Arbol`` viene con un constructor que recibe un string como parámetro, el cual contiene una fórmula, y este constructor se encarga de transformar la fórmula de string a árbol, de modo que usted no necesita preocuparse de eso. Para simplificar, la fórmula solo podrá contener variables de una sola letra, números de un solo dígito, y sin espacios. Los operadores permitidos son solo suma, resta, multiplicación y división. No hay operador menos unario.\n",
        "\n",
        "Usted tienen que implementar para la clase ``Arbol`` una función ``codigo`` que al ser invocado genere una secuencia de instrucciones elementales para evaluar la fórmula representada por ese árbol, y la retorne en forma de una lista (de Python)."
      ]
    },
    {
      "cell_type": "code",
      "source": [
        "# Ejecutar esto para poder visualizar los árboles\n",
        "\n",
        "!pip install aed-utilities"
      ],
      "metadata": {
        "id": "iz1412X9zRQw",
        "colab": {
          "base_uri": "https://localhost:8080/"
        },
        "outputId": "aaa2102b-20d4-4b8a-eb44-9e2a0d407d2c"
      },
      "execution_count": null,
      "outputs": [
        {
          "output_type": "stream",
          "name": "stdout",
          "text": [
            "Looking in indexes: https://pypi.org/simple, https://us-python.pkg.dev/colab-wheels/public/simple/\n",
            "Requirement already satisfied: aed-utilities in /usr/local/lib/python3.10/dist-packages (0.5.6)\n",
            "Requirement already satisfied: validators in /usr/local/lib/python3.10/dist-packages (from aed-utilities) (0.20.0)\n",
            "Requirement already satisfied: beautifulsoup4 in /usr/local/lib/python3.10/dist-packages (from aed-utilities) (4.11.2)\n",
            "Requirement already satisfied: soupsieve>1.2 in /usr/local/lib/python3.10/dist-packages (from beautifulsoup4->aed-utilities) (2.4.1)\n",
            "Requirement already satisfied: decorator>=3.4.0 in /usr/local/lib/python3.10/dist-packages (from validators->aed-utilities) (4.4.2)\n"
          ]
        }
      ]
    },
    {
      "cell_type": "code",
      "metadata": {
        "id": "G7vsv1WvF2nX"
      },
      "source": [
        "import aed_utilities as aed\n",
        "t=[] #Inicializamos lista que luego usaremos de forma global para almacenar los t_i\n",
        "\n",
        "class Nodoi:\n",
        "    def __init__(self, izq, info, der):\n",
        "        self.izq=izq\n",
        "        self.info=info\n",
        "        self.der=der\n",
        "    def codigo(self):\n",
        "      global t #Traemos la lista global\n",
        "      if isinstance(self.izq,Nodoi) and isinstance(self.der,Nodoe): #nodo izq Nodoi - nodo der Nodoe\n",
        "        self.izq.codigo() #Vemos el nodo izquierdo ya que es Nodoi y se puede seguir ramificando y agregando información, el nodo der por ser Nodoe extraeremos su self.info también con codigo()\n",
        "      elif isinstance(self.izq,Nodoe) and isinstance(self.der,Nodoi): #nodo izq Nodoe - nodo der Nodoi\n",
        "        self.der.codigo() #Caso analogo pero por la derecha\n",
        "      else: #los 2 son Nodoi ----> se analizan ambos\n",
        "        self.izq.codigo()\n",
        "        self.der.codigo()\n",
        "\n",
        "      aux= self.izq.info+self.info+self.der.info\n",
        "      indice = len(t) + 1 #El largo de la lista + 1 es quien nos da la idea de a que t_i nos corresponde guardar appendiando en nuestra lista global. EJ: [a+b,c-d] tiene largo 2, luego sigue appendear t_2+1 = t[1]*t[2]\n",
        "      self.info=\"t{}\".format(indice) #actualizamos el self.info\n",
        "      t.append(\"t{}\".format(indice)+\"= \"+aux) #al str t le agrega dentro de las {} con format el indice correspondiente\n",
        "\n",
        "class Nodoe:\n",
        "    def __init__(self, info):\n",
        "        self.info=info\n",
        "    def codigo(self):\n",
        "      return self.info #Retorna los valores self.info de los NodosE, también sirve para desenrollar la recursión\n",
        "\n",
        "class Arbol:\n",
        "    def __init__(self,formula):\n",
        "        global k\n",
        "        global s\n",
        "        s=formula+\";\" # agregamos una marca de fin de la entrada\n",
        "        k=0 # indica próximo caracter por procesar\n",
        "        # definimos funciones para analizar la fórmula\n",
        "        def expresion(): # retorna puntero a la raíz de un árbol que representa a la fórmula s\n",
        "            global k\n",
        "            global s\n",
        "            a=factor()\n",
        "            while s[k]==\"+\" or s[k]==\"-\":\n",
        "                op=s[k]\n",
        "                k+=1\n",
        "                b=factor()\n",
        "                a=Nodoi(a,op,b)\n",
        "            return a\n",
        "        def factor():\n",
        "            global k\n",
        "            global s\n",
        "            a=termino()\n",
        "            while s[k]==\"*\" or s[k]==\"/\":\n",
        "                op=s[k]\n",
        "                k+=1\n",
        "                b=termino()\n",
        "                a=Nodoi(a,op,b)\n",
        "            return a\n",
        "        def termino(): # posible constante, variable o formula parentizada\n",
        "            global k\n",
        "            global s\n",
        "            if s[k].isalpha() or s[k].isdigit():\n",
        "                a=Nodoe(s[k])\n",
        "                k+=1\n",
        "                return a\n",
        "            if s[k]==\"(\": # fórmula parentizada\n",
        "                k+=1\n",
        "                a=expresion()\n",
        "                if s[k]!=\")\":\n",
        "                    print(\"Error: Falta cierra paréntesis: \"+formula[k:])\n",
        "                    assert False\n",
        "                k+=1\n",
        "                return a\n",
        "            print(\"Error: Falta variable, número o abre paréntesis: \"+formula[k:])\n",
        "            assert False\n",
        "        a=expresion()\n",
        "        if s[k]!=\";\":\n",
        "            print(\"Error: Basura al final de la fórmula: \"+formula[k:])\n",
        "            assert False\n",
        "\n",
        "        self.raiz=a\n",
        "\n",
        "    def codigo(self):\n",
        "        # Esta es la función que tienen que escribir ustedes\n",
        "\n",
        "        #Usaremos isinstance() para saber si es Nodoe: debe ser un num o variable (en el fondo un valor), o si es Nodoi: un operador\n",
        "        global t\n",
        "        if isinstance(self.raiz, Nodoe): #Caso especial/borde para arboles de solo variable/valor del tipo: t1=a\n",
        "          #Sabiendo que estamos en un Nodoe, solo nos queda retornar su valor, para casos de formulas de al menos un x op y, internamente en el caso siguiente se retornara el valor\n",
        "          indice = len (t) + 1\n",
        "          t.append(\"t{}\".format(indice)+\"= \"+self.raiz.info)\n",
        "          return t\n",
        "        elif isinstance(self.raiz, Nodoi):\n",
        "          self.raiz.codigo() #Siendo Nodoi lo operaremos todo internamente en la funcion codigo propia de los nodos\n",
        "\n",
        "        #print(t) #Printear t si se quiere ver como esta devolviendo la lista\n",
        "        return t #Codigo tiene que retornar la lista con los ti usados, ej return [t1,t2,t3,t4]\n",
        "\n",
        "    def dibujar(self):\n",
        "      btd = aed.BinaryTreeDrawer(fieldData=\"info\", fieldLeft=\"izq\", fieldRight=\"der\", classNone=Nodoe)\n",
        "      btd.draw_tree(self, \"raiz\")"
      ],
      "execution_count": null,
      "outputs": []
    },
    {
      "cell_type": "markdown",
      "metadata": {
        "id": "PibRJ0ZFF2nb"
      },
      "source": [
        "\n",
        "\n",
        "A continuación probamos esta funcionalidad con varias fórmulas de ejemplo. Para ver si el árbol fue construido correctamente, lo dibujamos."
      ]
    },
    {
      "cell_type": "code",
      "metadata": {
        "id": "7_7E3OWuF2nd",
        "outputId": "e9b3e84b-0a74-447b-bfb3-9bc0eae4992d",
        "colab": {
          "base_uri": "https://localhost:8080/",
          "height": 195
        }
      },
      "source": [
        "Arbol(\"a*b*c\").dibujar()"
      ],
      "execution_count": null,
      "outputs": [
        {
          "output_type": "display_data",
          "data": {
            "text/plain": [
              "<IPython.core.display.SVG object>"
            ],
            "image/svg+xml": "<svg xmlns=\"http://www.w3.org/2000/svg\" xmlns:xlink=\"http://www.w3.org/1999/xlink\" width=\"178pt\" height=\"130pt\" viewBox=\"0.00 0.00 178.40 130.40\">\n<g id=\"graph0\" class=\"graph\" transform=\"scale(1 1) rotate(0) translate(4 126.4)\">\n<title>Arbol</title>\n<polygon fill=\"white\" stroke=\"transparent\" points=\"-4,4 -4,-126.4 174.4,-126.4 174.4,4 -4,4\"/>\n<!-- node0 -->\n<g id=\"node1\" class=\"node\">\n<title>node0</title>\n<polygon fill=\"none\" stroke=\"black\" points=\"36,-36 0,-36 0,0 36,0 36,-36\"/>\n<text text-anchor=\"middle\" x=\"18\" y=\"-14.3\" font-family=\"Times,serif\" font-size=\"14.00\">a</text>\n</g>\n<!-- node2 -->\n<g id=\"node2\" class=\"node\">\n<title>node2</title>\n<ellipse fill=\"none\" stroke=\"black\" cx=\"51.6\" cy=\"-61.2\" rx=\"18\" ry=\"18\"/>\n<text text-anchor=\"middle\" x=\"51.6\" y=\"-57.5\" font-family=\"Times,serif\" font-size=\"14.00\">*</text>\n</g>\n<!-- node2&#45;&#45;node0 -->\n<g id=\"edge2\" class=\"edge\">\n<title>node2--node0</title>\n<path fill=\"none\" stroke=\"black\" d=\"M40.22,-46.57C37.64,-43.25 34.85,-39.67 32.16,-36.21\"/>\n</g>\n<!-- node1 -->\n<g id=\"node3\" class=\"node\">\n<title>node1</title>\n<polygon fill=\"none\" stroke=\"black\" points=\"103.2,-36 67.2,-36 67.2,0 103.2,0 103.2,-36\"/>\n<text text-anchor=\"middle\" x=\"85.2\" y=\"-14.3\" font-family=\"Times,serif\" font-size=\"14.00\">b</text>\n</g>\n<!-- node2&#45;&#45;node1 -->\n<g id=\"edge3\" class=\"edge\">\n<title>node2--node1</title>\n<path fill=\"none\" stroke=\"black\" d=\"M62.98,-46.57C65.56,-43.25 68.35,-39.67 71.04,-36.21\"/>\n</g>\n<!-- node4 -->\n<g id=\"node4\" class=\"node\">\n<title>node4</title>\n<ellipse fill=\"none\" stroke=\"black\" cx=\"118.8\" cy=\"-104.4\" rx=\"18\" ry=\"18\"/>\n<text text-anchor=\"middle\" x=\"118.8\" y=\"-100.7\" font-family=\"Times,serif\" font-size=\"14.00\">*</text>\n</g>\n<!-- node4&#45;&#45;node2 -->\n<g id=\"edge1\" class=\"edge\">\n<title>node4--node2</title>\n<path fill=\"none\" stroke=\"black\" d=\"M103.55,-94.6C92.55,-87.53 77.77,-78.02 66.79,-70.96\"/>\n</g>\n<!-- node3 -->\n<g id=\"node5\" class=\"node\">\n<title>node3</title>\n<polygon fill=\"none\" stroke=\"black\" points=\"170.4,-79.2 134.4,-79.2 134.4,-43.2 170.4,-43.2 170.4,-79.2\"/>\n<text text-anchor=\"middle\" x=\"152.4\" y=\"-57.5\" font-family=\"Times,serif\" font-size=\"14.00\">c</text>\n</g>\n<!-- node4&#45;&#45;node3 -->\n<g id=\"edge4\" class=\"edge\">\n<title>node4--node3</title>\n<path fill=\"none\" stroke=\"black\" d=\"M130.18,-89.77C132.76,-86.45 135.55,-82.87 138.24,-79.41\"/>\n</g>\n</g>\n</svg>"
          },
          "metadata": {}
        }
      ]
    },
    {
      "cell_type": "code",
      "metadata": {
        "id": "mVMg8ye2F2nj",
        "outputId": "e47ec0c8-f5bd-4099-a979-94730d19a786",
        "colab": {
          "base_uri": "https://localhost:8080/",
          "height": 195
        }
      },
      "source": [
        "Arbol(\"(a+b)*(c-d)\").dibujar()"
      ],
      "execution_count": null,
      "outputs": [
        {
          "output_type": "display_data",
          "data": {
            "text/plain": [
              "<IPython.core.display.SVG object>"
            ],
            "image/svg+xml": "<svg xmlns=\"http://www.w3.org/2000/svg\" xmlns:xlink=\"http://www.w3.org/1999/xlink\" width=\"246pt\" height=\"130pt\" viewBox=\"0.00 0.00 245.60 130.40\">\n<g id=\"graph0\" class=\"graph\" transform=\"scale(1 1) rotate(0) translate(4 126.4)\">\n<title>Arbol</title>\n<polygon fill=\"white\" stroke=\"transparent\" points=\"-4,4 -4,-126.4 241.6,-126.4 241.6,4 -4,4\"/>\n<!-- node0 -->\n<g id=\"node1\" class=\"node\">\n<title>node0</title>\n<polygon fill=\"none\" stroke=\"black\" points=\"36,-36 0,-36 0,0 36,0 36,-36\"/>\n<text text-anchor=\"middle\" x=\"18\" y=\"-14.3\" font-family=\"Times,serif\" font-size=\"14.00\">a</text>\n</g>\n<!-- node2 -->\n<g id=\"node2\" class=\"node\">\n<title>node2</title>\n<ellipse fill=\"none\" stroke=\"black\" cx=\"51.6\" cy=\"-61.2\" rx=\"18\" ry=\"18\"/>\n<text text-anchor=\"middle\" x=\"51.6\" y=\"-57.5\" font-family=\"Times,serif\" font-size=\"14.00\">+</text>\n</g>\n<!-- node2&#45;&#45;node0 -->\n<g id=\"edge2\" class=\"edge\">\n<title>node2--node0</title>\n<path fill=\"none\" stroke=\"black\" d=\"M40.22,-46.57C37.64,-43.25 34.85,-39.67 32.16,-36.21\"/>\n</g>\n<!-- node1 -->\n<g id=\"node3\" class=\"node\">\n<title>node1</title>\n<polygon fill=\"none\" stroke=\"black\" points=\"103.2,-36 67.2,-36 67.2,0 103.2,0 103.2,-36\"/>\n<text text-anchor=\"middle\" x=\"85.2\" y=\"-14.3\" font-family=\"Times,serif\" font-size=\"14.00\">b</text>\n</g>\n<!-- node2&#45;&#45;node1 -->\n<g id=\"edge3\" class=\"edge\">\n<title>node2--node1</title>\n<path fill=\"none\" stroke=\"black\" d=\"M62.98,-46.57C65.56,-43.25 68.35,-39.67 71.04,-36.21\"/>\n</g>\n<!-- node6 -->\n<g id=\"node4\" class=\"node\">\n<title>node6</title>\n<ellipse fill=\"none\" stroke=\"black\" cx=\"118.8\" cy=\"-104.4\" rx=\"18\" ry=\"18\"/>\n<text text-anchor=\"middle\" x=\"118.8\" y=\"-100.7\" font-family=\"Times,serif\" font-size=\"14.00\">*</text>\n</g>\n<!-- node6&#45;&#45;node2 -->\n<g id=\"edge1\" class=\"edge\">\n<title>node6--node2</title>\n<path fill=\"none\" stroke=\"black\" d=\"M103.55,-94.6C92.55,-87.53 77.77,-78.02 66.79,-70.96\"/>\n</g>\n<!-- node5 -->\n<g id=\"node6\" class=\"node\">\n<title>node5</title>\n<ellipse fill=\"none\" stroke=\"black\" cx=\"186\" cy=\"-61.2\" rx=\"18\" ry=\"18\"/>\n<text text-anchor=\"middle\" x=\"186\" y=\"-57.5\" font-family=\"Times,serif\" font-size=\"14.00\">-</text>\n</g>\n<!-- node6&#45;&#45;node5 -->\n<g id=\"edge4\" class=\"edge\">\n<title>node6--node5</title>\n<path fill=\"none\" stroke=\"black\" d=\"M134.05,-94.6C145.05,-87.53 159.83,-78.02 170.81,-70.96\"/>\n</g>\n<!-- node3 -->\n<g id=\"node5\" class=\"node\">\n<title>node3</title>\n<polygon fill=\"none\" stroke=\"black\" points=\"170.4,-36 134.4,-36 134.4,0 170.4,0 170.4,-36\"/>\n<text text-anchor=\"middle\" x=\"152.4\" y=\"-14.3\" font-family=\"Times,serif\" font-size=\"14.00\">c</text>\n</g>\n<!-- node5&#45;&#45;node3 -->\n<g id=\"edge5\" class=\"edge\">\n<title>node5--node3</title>\n<path fill=\"none\" stroke=\"black\" d=\"M174.62,-46.57C172.04,-43.25 169.25,-39.67 166.56,-36.21\"/>\n</g>\n<!-- node4 -->\n<g id=\"node7\" class=\"node\">\n<title>node4</title>\n<polygon fill=\"none\" stroke=\"black\" points=\"237.6,-36 201.6,-36 201.6,0 237.6,0 237.6,-36\"/>\n<text text-anchor=\"middle\" x=\"219.6\" y=\"-14.3\" font-family=\"Times,serif\" font-size=\"14.00\">d</text>\n</g>\n<!-- node5&#45;&#45;node4 -->\n<g id=\"edge6\" class=\"edge\">\n<title>node5--node4</title>\n<path fill=\"none\" stroke=\"black\" d=\"M197.38,-46.57C199.96,-43.25 202.75,-39.67 205.44,-36.21\"/>\n</g>\n</g>\n</svg>"
          },
          "metadata": {}
        }
      ]
    },
    {
      "cell_type": "code",
      "metadata": {
        "id": "F4DP46cFF2nn",
        "outputId": "a4ef55f3-1c31-43ce-feae-3c7083be9202",
        "colab": {
          "base_uri": "https://localhost:8080/",
          "height": 311
        }
      },
      "source": [
        "Arbol(\"(2-p*q)*(1/n+1/(p+q))\").dibujar()"
      ],
      "execution_count": null,
      "outputs": [
        {
          "output_type": "display_data",
          "data": {
            "text/plain": [
              "<IPython.core.display.SVG object>"
            ],
            "image/svg+xml": "<svg xmlns=\"http://www.w3.org/2000/svg\" xmlns:xlink=\"http://www.w3.org/1999/xlink\" width=\"514pt\" height=\"217pt\" viewBox=\"0.00 0.00 514.40 216.80\">\n<g id=\"graph0\" class=\"graph\" transform=\"scale(1 1) rotate(0) translate(4 212.8)\">\n<title>Arbol</title>\n<polygon fill=\"white\" stroke=\"transparent\" points=\"-4,4 -4,-212.8 510.4,-212.8 510.4,4 -4,4\"/>\n<!-- node0 -->\n<g id=\"node1\" class=\"node\">\n<title>node0</title>\n<polygon fill=\"none\" stroke=\"black\" points=\"36,-122.4 0,-122.4 0,-86.4 36,-86.4 36,-122.4\"/>\n<text text-anchor=\"middle\" x=\"18\" y=\"-100.7\" font-family=\"Times,serif\" font-size=\"14.00\">2</text>\n</g>\n<!-- node4 -->\n<g id=\"node2\" class=\"node\">\n<title>node4</title>\n<ellipse fill=\"none\" stroke=\"black\" cx=\"51.6\" cy=\"-147.6\" rx=\"18\" ry=\"18\"/>\n<text text-anchor=\"middle\" x=\"51.6\" y=\"-143.9\" font-family=\"Times,serif\" font-size=\"14.00\">-</text>\n</g>\n<!-- node4&#45;&#45;node0 -->\n<g id=\"edge2\" class=\"edge\">\n<title>node4--node0</title>\n<path fill=\"none\" stroke=\"black\" d=\"M40.22,-132.97C37.64,-129.65 34.85,-126.07 32.16,-122.61\"/>\n</g>\n<!-- node3 -->\n<g id=\"node4\" class=\"node\">\n<title>node3</title>\n<ellipse fill=\"none\" stroke=\"black\" cx=\"118.8\" cy=\"-104.4\" rx=\"18\" ry=\"18\"/>\n<text text-anchor=\"middle\" x=\"118.8\" y=\"-100.7\" font-family=\"Times,serif\" font-size=\"14.00\">*</text>\n</g>\n<!-- node4&#45;&#45;node3 -->\n<g id=\"edge3\" class=\"edge\">\n<title>node4--node3</title>\n<path fill=\"none\" stroke=\"black\" d=\"M66.85,-137.8C77.85,-130.73 92.63,-121.22 103.61,-114.16\"/>\n</g>\n<!-- node1 -->\n<g id=\"node3\" class=\"node\">\n<title>node1</title>\n<polygon fill=\"none\" stroke=\"black\" points=\"103.2,-79.2 67.2,-79.2 67.2,-43.2 103.2,-43.2 103.2,-79.2\"/>\n<text text-anchor=\"middle\" x=\"85.2\" y=\"-57.5\" font-family=\"Times,serif\" font-size=\"14.00\">p</text>\n</g>\n<!-- node3&#45;&#45;node1 -->\n<g id=\"edge4\" class=\"edge\">\n<title>node3--node1</title>\n<path fill=\"none\" stroke=\"black\" d=\"M107.42,-89.77C104.84,-86.45 102.05,-82.87 99.36,-79.41\"/>\n</g>\n<!-- node2 -->\n<g id=\"node5\" class=\"node\">\n<title>node2</title>\n<polygon fill=\"none\" stroke=\"black\" points=\"170.4,-79.2 134.4,-79.2 134.4,-43.2 170.4,-43.2 170.4,-79.2\"/>\n<text text-anchor=\"middle\" x=\"152.4\" y=\"-57.5\" font-family=\"Times,serif\" font-size=\"14.00\">q</text>\n</g>\n<!-- node3&#45;&#45;node2 -->\n<g id=\"edge5\" class=\"edge\">\n<title>node3--node2</title>\n<path fill=\"none\" stroke=\"black\" d=\"M130.18,-89.77C132.76,-86.45 135.55,-82.87 138.24,-79.41\"/>\n</g>\n<!-- node14 -->\n<g id=\"node6\" class=\"node\">\n<title>node14</title>\n<ellipse fill=\"none\" stroke=\"black\" cx=\"186\" cy=\"-190.8\" rx=\"18\" ry=\"18\"/>\n<text text-anchor=\"middle\" x=\"186\" y=\"-187.1\" font-family=\"Times,serif\" font-size=\"14.00\">*</text>\n</g>\n<!-- node14&#45;&#45;node4 -->\n<g id=\"edge1\" class=\"edge\">\n<title>node14--node4</title>\n<path fill=\"none\" stroke=\"black\" d=\"M168.7,-185.24C142.9,-176.95 94.6,-161.42 68.83,-153.14\"/>\n</g>\n<!-- node13 -->\n<g id=\"node10\" class=\"node\">\n<title>node13</title>\n<ellipse fill=\"none\" stroke=\"black\" cx=\"320.4\" cy=\"-147.6\" rx=\"18\" ry=\"18\"/>\n<text text-anchor=\"middle\" x=\"320.4\" y=\"-143.9\" font-family=\"Times,serif\" font-size=\"14.00\">+</text>\n</g>\n<!-- node14&#45;&#45;node13 -->\n<g id=\"edge6\" class=\"edge\">\n<title>node14--node13</title>\n<path fill=\"none\" stroke=\"black\" d=\"M203.3,-185.24C229.1,-176.95 277.4,-161.42 303.17,-153.14\"/>\n</g>\n<!-- node5 -->\n<g id=\"node7\" class=\"node\">\n<title>node5</title>\n<polygon fill=\"none\" stroke=\"black\" points=\"237.6,-79.2 201.6,-79.2 201.6,-43.2 237.6,-43.2 237.6,-79.2\"/>\n<text text-anchor=\"middle\" x=\"219.6\" y=\"-57.5\" font-family=\"Times,serif\" font-size=\"14.00\">1</text>\n</g>\n<!-- node7 -->\n<g id=\"node8\" class=\"node\">\n<title>node7</title>\n<ellipse fill=\"none\" stroke=\"black\" cx=\"253.2\" cy=\"-104.4\" rx=\"18\" ry=\"18\"/>\n<text text-anchor=\"middle\" x=\"253.2\" y=\"-100.7\" font-family=\"Times,serif\" font-size=\"14.00\">/</text>\n</g>\n<!-- node7&#45;&#45;node5 -->\n<g id=\"edge8\" class=\"edge\">\n<title>node7--node5</title>\n<path fill=\"none\" stroke=\"black\" d=\"M241.82,-89.77C239.24,-86.45 236.45,-82.87 233.76,-79.41\"/>\n</g>\n<!-- node6 -->\n<g id=\"node9\" class=\"node\">\n<title>node6</title>\n<polygon fill=\"none\" stroke=\"black\" points=\"304.8,-79.2 268.8,-79.2 268.8,-43.2 304.8,-43.2 304.8,-79.2\"/>\n<text text-anchor=\"middle\" x=\"286.8\" y=\"-57.5\" font-family=\"Times,serif\" font-size=\"14.00\">n</text>\n</g>\n<!-- node7&#45;&#45;node6 -->\n<g id=\"edge9\" class=\"edge\">\n<title>node7--node6</title>\n<path fill=\"none\" stroke=\"black\" d=\"M264.58,-89.77C267.16,-86.45 269.95,-82.87 272.64,-79.41\"/>\n</g>\n<!-- node13&#45;&#45;node7 -->\n<g id=\"edge7\" class=\"edge\">\n<title>node13--node7</title>\n<path fill=\"none\" stroke=\"black\" d=\"M305.15,-137.8C294.15,-130.73 279.37,-121.22 268.39,-114.16\"/>\n</g>\n<!-- node12 -->\n<g id=\"node12\" class=\"node\">\n<title>node12</title>\n<ellipse fill=\"none\" stroke=\"black\" cx=\"387.6\" cy=\"-104.4\" rx=\"18\" ry=\"18\"/>\n<text text-anchor=\"middle\" x=\"387.6\" y=\"-100.7\" font-family=\"Times,serif\" font-size=\"14.00\">/</text>\n</g>\n<!-- node13&#45;&#45;node12 -->\n<g id=\"edge10\" class=\"edge\">\n<title>node13--node12</title>\n<path fill=\"none\" stroke=\"black\" d=\"M335.65,-137.8C346.65,-130.73 361.43,-121.22 372.41,-114.16\"/>\n</g>\n<!-- node8 -->\n<g id=\"node11\" class=\"node\">\n<title>node8</title>\n<polygon fill=\"none\" stroke=\"black\" points=\"372,-79.2 336,-79.2 336,-43.2 372,-43.2 372,-79.2\"/>\n<text text-anchor=\"middle\" x=\"354\" y=\"-57.5\" font-family=\"Times,serif\" font-size=\"14.00\">1</text>\n</g>\n<!-- node12&#45;&#45;node8 -->\n<g id=\"edge11\" class=\"edge\">\n<title>node12--node8</title>\n<path fill=\"none\" stroke=\"black\" d=\"M376.22,-89.77C373.64,-86.45 370.85,-82.87 368.16,-79.41\"/>\n</g>\n<!-- node11 -->\n<g id=\"node14\" class=\"node\">\n<title>node11</title>\n<ellipse fill=\"none\" stroke=\"black\" cx=\"454.8\" cy=\"-61.2\" rx=\"18\" ry=\"18\"/>\n<text text-anchor=\"middle\" x=\"454.8\" y=\"-57.5\" font-family=\"Times,serif\" font-size=\"14.00\">+</text>\n</g>\n<!-- node12&#45;&#45;node11 -->\n<g id=\"edge12\" class=\"edge\">\n<title>node12--node11</title>\n<path fill=\"none\" stroke=\"black\" d=\"M402.85,-94.6C413.85,-87.53 428.63,-78.02 439.61,-70.96\"/>\n</g>\n<!-- node9 -->\n<g id=\"node13\" class=\"node\">\n<title>node9</title>\n<polygon fill=\"none\" stroke=\"black\" points=\"439.2,-36 403.2,-36 403.2,0 439.2,0 439.2,-36\"/>\n<text text-anchor=\"middle\" x=\"421.2\" y=\"-14.3\" font-family=\"Times,serif\" font-size=\"14.00\">p</text>\n</g>\n<!-- node11&#45;&#45;node9 -->\n<g id=\"edge13\" class=\"edge\">\n<title>node11--node9</title>\n<path fill=\"none\" stroke=\"black\" d=\"M443.42,-46.57C440.84,-43.25 438.05,-39.67 435.36,-36.21\"/>\n</g>\n<!-- node10 -->\n<g id=\"node15\" class=\"node\">\n<title>node10</title>\n<polygon fill=\"none\" stroke=\"black\" points=\"506.4,-36 470.4,-36 470.4,0 506.4,0 506.4,-36\"/>\n<text text-anchor=\"middle\" x=\"488.4\" y=\"-14.3\" font-family=\"Times,serif\" font-size=\"14.00\">q</text>\n</g>\n<!-- node11&#45;&#45;node10 -->\n<g id=\"edge14\" class=\"edge\">\n<title>node11--node10</title>\n<path fill=\"none\" stroke=\"black\" d=\"M466.18,-46.57C468.76,-43.25 471.55,-39.67 474.24,-36.21\"/>\n</g>\n</g>\n</svg>"
          },
          "metadata": {}
        }
      ]
    },
    {
      "cell_type": "markdown",
      "metadata": {
        "id": "UzH5VKIFF2ns"
      },
      "source": [
        "## Resultados"
      ]
    },
    {
      "cell_type": "markdown",
      "metadata": {
        "id": "_dKOs-tLF2ns"
      },
      "source": [
        "En esta sección probamos la generación de código que usted tiene que escribir. Mientras usted no sustituya la función ``codigo`` provisoria que viene en la definición de la clase, va a aparecer la lista que generamos ahí. Primero vamos a definir una función ``probar`` que genera el código a partir de una fórmula dada e imprime el resultado:"
      ]
    },
    {
      "cell_type": "code",
      "metadata": {
        "id": "nN9p3gO-F2nt"
      },
      "source": [
        "def probar(formula):\n",
        "    a=Arbol(formula)\n",
        "    global t\n",
        "    t=[]\n",
        "    for x in a.codigo(): #x in [t1=a+b,t2=c-d,t3=t1*t2]\n",
        "        print(x)"
      ],
      "execution_count": null,
      "outputs": []
    },
    {
      "cell_type": "markdown",
      "metadata": {
        "id": "puLezujdF2nx"
      },
      "source": [
        "A continuación probamos con varias fórmulas. Además de las fórmulas dadaas, usted tiene que agregar tres ejemplos adicionales."
      ]
    },
    {
      "cell_type": "code",
      "metadata": {
        "id": "f9hCpaCgF2ny",
        "outputId": "f8a3300e-be67-4146-846f-b7a429c983ce",
        "colab": {
          "base_uri": "https://localhost:8080/"
        }
      },
      "source": [
        "probar(\"a+1\")"
      ],
      "execution_count": null,
      "outputs": [
        {
          "output_type": "stream",
          "name": "stdout",
          "text": [
            "t1= a+1\n"
          ]
        }
      ]
    },
    {
      "cell_type": "code",
      "metadata": {
        "id": "vX6V_XTrF2n7",
        "outputId": "ba164c0f-4529-4329-e836-3d9699974e79",
        "colab": {
          "base_uri": "https://localhost:8080/"
        }
      },
      "source": [
        "probar(\"(a+b)*(c-d)\")\n",
        "#me puede estar faltando un caso base en codigo porque el * del nodo raiz lo toma mal (da lo mismo el tipo de operador)\n",
        "#DETECTADO LO DE ARRIBA: pasa por el append de codigo() dentro del arbol"
      ],
      "execution_count": null,
      "outputs": [
        {
          "output_type": "stream",
          "name": "stdout",
          "text": [
            "t1= a+b\n",
            "t2= c-d\n",
            "t3= t1*t2\n"
          ]
        }
      ]
    },
    {
      "cell_type": "code",
      "metadata": {
        "id": "taeKmQj1F2n_",
        "outputId": "73a0a2be-20d0-40ee-8b05-77339ab7970f",
        "colab": {
          "base_uri": "https://localhost:8080/"
        }
      },
      "source": [
        "probar(\"(2-p*q)*(1/n+1/(p+q))\")"
      ],
      "execution_count": null,
      "outputs": [
        {
          "output_type": "stream",
          "name": "stdout",
          "text": [
            "t1= p*q\n",
            "t2= 2-t1\n",
            "t3= 1/n\n",
            "t4= p+q\n",
            "t5= 1/t4\n",
            "t6= t3+t5\n",
            "t7= t2*t6\n"
          ]
        }
      ]
    },
    {
      "cell_type": "code",
      "metadata": {
        "id": "KOs7ocpkF2oD",
        "colab": {
          "base_uri": "https://localhost:8080/"
        },
        "outputId": "7c3b73a1-15da-49de-ff3a-f354beb5d21f"
      },
      "source": [
        "probar(\"((((a+b)+c)+d)+e)\")"
      ],
      "execution_count": null,
      "outputs": [
        {
          "output_type": "stream",
          "name": "stdout",
          "text": [
            "t1= a+b\n",
            "t2= t1+c\n",
            "t3= t2+d\n",
            "t4= t3+e\n"
          ]
        }
      ]
    },
    {
      "cell_type": "code",
      "metadata": {
        "id": "XzR_Y6o_F2oI",
        "colab": {
          "base_uri": "https://localhost:8080/"
        },
        "outputId": "0906b6f4-4c4b-4023-d3d5-e30216f08c9f"
      },
      "source": [
        "probar(\"(a+(b+(c+(d+e))))\")"
      ],
      "execution_count": null,
      "outputs": [
        {
          "output_type": "stream",
          "name": "stdout",
          "text": [
            "t1= d+e\n",
            "t2= c+t1\n",
            "t3= b+t2\n",
            "t4= a+t3\n"
          ]
        }
      ]
    },
    {
      "cell_type": "code",
      "metadata": {
        "id": "R62vPzgAF2oL",
        "outputId": "984f742d-ee4d-4e51-f751-87816081c989",
        "colab": {
          "base_uri": "https://localhost:8080/"
        }
      },
      "source": [
        "probar(\"a\")"
      ],
      "execution_count": null,
      "outputs": [
        {
          "output_type": "stream",
          "name": "stdout",
          "text": [
            "t1= a\n"
          ]
        }
      ]
    },
    {
      "cell_type": "code",
      "source": [
        "#Ejemplo adicional 1:\n",
        "Arbol(\"(2/a+(2-p*q))*(1/n+1/(p+q))\").dibujar()\n",
        "probar(\"(2/a+(2-p*q))*(1/n+1/(p+q))\")"
      ],
      "metadata": {
        "colab": {
          "base_uri": "https://localhost:8080/",
          "height": 467
        },
        "id": "pOMF5tgOmMXz",
        "outputId": "2f492b27-8f71-4a77-dc9e-1dcccc1d4fdf"
      },
      "execution_count": null,
      "outputs": [
        {
          "output_type": "display_data",
          "data": {
            "text/plain": [
              "<IPython.core.display.SVG object>"
            ],
            "image/svg+xml": "<svg xmlns=\"http://www.w3.org/2000/svg\" xmlns:xlink=\"http://www.w3.org/1999/xlink\" width=\"649pt\" height=\"217pt\" viewBox=\"0.00 0.00 648.80 216.80\">\n<g id=\"graph0\" class=\"graph\" transform=\"scale(1 1) rotate(0) translate(4 212.8)\">\n<title>Arbol</title>\n<polygon fill=\"white\" stroke=\"transparent\" points=\"-4,4 -4,-212.8 644.8,-212.8 644.8,4 -4,4\"/>\n<!-- node0 -->\n<g id=\"node1\" class=\"node\">\n<title>node0</title>\n<polygon fill=\"none\" stroke=\"black\" points=\"36,-79.2 0,-79.2 0,-43.2 36,-43.2 36,-79.2\"/>\n<text text-anchor=\"middle\" x=\"18\" y=\"-57.5\" font-family=\"Times,serif\" font-size=\"14.00\">2</text>\n</g>\n<!-- node2 -->\n<g id=\"node2\" class=\"node\">\n<title>node2</title>\n<ellipse fill=\"none\" stroke=\"black\" cx=\"51.6\" cy=\"-104.4\" rx=\"18\" ry=\"18\"/>\n<text text-anchor=\"middle\" x=\"51.6\" y=\"-100.7\" font-family=\"Times,serif\" font-size=\"14.00\">/</text>\n</g>\n<!-- node2&#45;&#45;node0 -->\n<g id=\"edge3\" class=\"edge\">\n<title>node2--node0</title>\n<path fill=\"none\" stroke=\"black\" d=\"M40.22,-89.77C37.64,-86.45 34.85,-82.87 32.16,-79.41\"/>\n</g>\n<!-- node1 -->\n<g id=\"node3\" class=\"node\">\n<title>node1</title>\n<polygon fill=\"none\" stroke=\"black\" points=\"103.2,-79.2 67.2,-79.2 67.2,-43.2 103.2,-43.2 103.2,-79.2\"/>\n<text text-anchor=\"middle\" x=\"85.2\" y=\"-57.5\" font-family=\"Times,serif\" font-size=\"14.00\">a</text>\n</g>\n<!-- node2&#45;&#45;node1 -->\n<g id=\"edge4\" class=\"edge\">\n<title>node2--node1</title>\n<path fill=\"none\" stroke=\"black\" d=\"M62.98,-89.77C65.56,-86.45 68.35,-82.87 71.04,-79.41\"/>\n</g>\n<!-- node8 -->\n<g id=\"node4\" class=\"node\">\n<title>node8</title>\n<ellipse fill=\"none\" stroke=\"black\" cx=\"118.8\" cy=\"-147.6\" rx=\"18\" ry=\"18\"/>\n<text text-anchor=\"middle\" x=\"118.8\" y=\"-143.9\" font-family=\"Times,serif\" font-size=\"14.00\">+</text>\n</g>\n<!-- node8&#45;&#45;node2 -->\n<g id=\"edge2\" class=\"edge\">\n<title>node8--node2</title>\n<path fill=\"none\" stroke=\"black\" d=\"M103.55,-137.8C92.55,-130.73 77.77,-121.22 66.79,-114.16\"/>\n</g>\n<!-- node7 -->\n<g id=\"node6\" class=\"node\">\n<title>node7</title>\n<ellipse fill=\"none\" stroke=\"black\" cx=\"186\" cy=\"-104.4\" rx=\"18\" ry=\"18\"/>\n<text text-anchor=\"middle\" x=\"186\" y=\"-100.7\" font-family=\"Times,serif\" font-size=\"14.00\">-</text>\n</g>\n<!-- node8&#45;&#45;node7 -->\n<g id=\"edge5\" class=\"edge\">\n<title>node8--node7</title>\n<path fill=\"none\" stroke=\"black\" d=\"M134.05,-137.8C145.05,-130.73 159.83,-121.22 170.81,-114.16\"/>\n</g>\n<!-- node3 -->\n<g id=\"node5\" class=\"node\">\n<title>node3</title>\n<polygon fill=\"none\" stroke=\"black\" points=\"170.4,-79.2 134.4,-79.2 134.4,-43.2 170.4,-43.2 170.4,-79.2\"/>\n<text text-anchor=\"middle\" x=\"152.4\" y=\"-57.5\" font-family=\"Times,serif\" font-size=\"14.00\">2</text>\n</g>\n<!-- node7&#45;&#45;node3 -->\n<g id=\"edge6\" class=\"edge\">\n<title>node7--node3</title>\n<path fill=\"none\" stroke=\"black\" d=\"M174.62,-89.77C172.04,-86.45 169.25,-82.87 166.56,-79.41\"/>\n</g>\n<!-- node6 -->\n<g id=\"node8\" class=\"node\">\n<title>node6</title>\n<ellipse fill=\"none\" stroke=\"black\" cx=\"253.2\" cy=\"-61.2\" rx=\"18\" ry=\"18\"/>\n<text text-anchor=\"middle\" x=\"253.2\" y=\"-57.5\" font-family=\"Times,serif\" font-size=\"14.00\">*</text>\n</g>\n<!-- node7&#45;&#45;node6 -->\n<g id=\"edge7\" class=\"edge\">\n<title>node7--node6</title>\n<path fill=\"none\" stroke=\"black\" d=\"M201.25,-94.6C212.25,-87.53 227.03,-78.02 238.01,-70.96\"/>\n</g>\n<!-- node4 -->\n<g id=\"node7\" class=\"node\">\n<title>node4</title>\n<polygon fill=\"none\" stroke=\"black\" points=\"237.6,-36 201.6,-36 201.6,0 237.6,0 237.6,-36\"/>\n<text text-anchor=\"middle\" x=\"219.6\" y=\"-14.3\" font-family=\"Times,serif\" font-size=\"14.00\">p</text>\n</g>\n<!-- node6&#45;&#45;node4 -->\n<g id=\"edge8\" class=\"edge\">\n<title>node6--node4</title>\n<path fill=\"none\" stroke=\"black\" d=\"M241.82,-46.57C239.24,-43.25 236.45,-39.67 233.76,-36.21\"/>\n</g>\n<!-- node5 -->\n<g id=\"node9\" class=\"node\">\n<title>node5</title>\n<polygon fill=\"none\" stroke=\"black\" points=\"304.8,-36 268.8,-36 268.8,0 304.8,0 304.8,-36\"/>\n<text text-anchor=\"middle\" x=\"286.8\" y=\"-14.3\" font-family=\"Times,serif\" font-size=\"14.00\">q</text>\n</g>\n<!-- node6&#45;&#45;node5 -->\n<g id=\"edge9\" class=\"edge\">\n<title>node6--node5</title>\n<path fill=\"none\" stroke=\"black\" d=\"M264.58,-46.57C267.16,-43.25 269.95,-39.67 272.64,-36.21\"/>\n</g>\n<!-- node18 -->\n<g id=\"node10\" class=\"node\">\n<title>node18</title>\n<ellipse fill=\"none\" stroke=\"black\" cx=\"320.4\" cy=\"-190.8\" rx=\"18\" ry=\"18\"/>\n<text text-anchor=\"middle\" x=\"320.4\" y=\"-187.1\" font-family=\"Times,serif\" font-size=\"14.00\">*</text>\n</g>\n<!-- node18&#45;&#45;node8 -->\n<g id=\"edge1\" class=\"edge\">\n<title>node18--node8</title>\n<path fill=\"none\" stroke=\"black\" d=\"M302.51,-186.97C264.25,-178.77 174.87,-159.62 136.65,-151.43\"/>\n</g>\n<!-- node17 -->\n<g id=\"node14\" class=\"node\">\n<title>node17</title>\n<ellipse fill=\"none\" stroke=\"black\" cx=\"454.8\" cy=\"-147.6\" rx=\"18\" ry=\"18\"/>\n<text text-anchor=\"middle\" x=\"454.8\" y=\"-143.9\" font-family=\"Times,serif\" font-size=\"14.00\">+</text>\n</g>\n<!-- node18&#45;&#45;node17 -->\n<g id=\"edge10\" class=\"edge\">\n<title>node18--node17</title>\n<path fill=\"none\" stroke=\"black\" d=\"M337.7,-185.24C363.5,-176.95 411.8,-161.42 437.57,-153.14\"/>\n</g>\n<!-- node9 -->\n<g id=\"node11\" class=\"node\">\n<title>node9</title>\n<polygon fill=\"none\" stroke=\"black\" points=\"372,-79.2 336,-79.2 336,-43.2 372,-43.2 372,-79.2\"/>\n<text text-anchor=\"middle\" x=\"354\" y=\"-57.5\" font-family=\"Times,serif\" font-size=\"14.00\">1</text>\n</g>\n<!-- node11 -->\n<g id=\"node12\" class=\"node\">\n<title>node11</title>\n<ellipse fill=\"none\" stroke=\"black\" cx=\"387.6\" cy=\"-104.4\" rx=\"18\" ry=\"18\"/>\n<text text-anchor=\"middle\" x=\"387.6\" y=\"-100.7\" font-family=\"Times,serif\" font-size=\"14.00\">/</text>\n</g>\n<!-- node11&#45;&#45;node9 -->\n<g id=\"edge12\" class=\"edge\">\n<title>node11--node9</title>\n<path fill=\"none\" stroke=\"black\" d=\"M376.22,-89.77C373.64,-86.45 370.85,-82.87 368.16,-79.41\"/>\n</g>\n<!-- node10 -->\n<g id=\"node13\" class=\"node\">\n<title>node10</title>\n<polygon fill=\"none\" stroke=\"black\" points=\"439.2,-79.2 403.2,-79.2 403.2,-43.2 439.2,-43.2 439.2,-79.2\"/>\n<text text-anchor=\"middle\" x=\"421.2\" y=\"-57.5\" font-family=\"Times,serif\" font-size=\"14.00\">n</text>\n</g>\n<!-- node11&#45;&#45;node10 -->\n<g id=\"edge13\" class=\"edge\">\n<title>node11--node10</title>\n<path fill=\"none\" stroke=\"black\" d=\"M398.98,-89.77C401.56,-86.45 404.35,-82.87 407.04,-79.41\"/>\n</g>\n<!-- node17&#45;&#45;node11 -->\n<g id=\"edge11\" class=\"edge\">\n<title>node17--node11</title>\n<path fill=\"none\" stroke=\"black\" d=\"M439.55,-137.8C428.55,-130.73 413.77,-121.22 402.79,-114.16\"/>\n</g>\n<!-- node16 -->\n<g id=\"node16\" class=\"node\">\n<title>node16</title>\n<ellipse fill=\"none\" stroke=\"black\" cx=\"522\" cy=\"-104.4\" rx=\"18\" ry=\"18\"/>\n<text text-anchor=\"middle\" x=\"522\" y=\"-100.7\" font-family=\"Times,serif\" font-size=\"14.00\">/</text>\n</g>\n<!-- node17&#45;&#45;node16 -->\n<g id=\"edge14\" class=\"edge\">\n<title>node17--node16</title>\n<path fill=\"none\" stroke=\"black\" d=\"M470.05,-137.8C481.05,-130.73 495.83,-121.22 506.81,-114.16\"/>\n</g>\n<!-- node12 -->\n<g id=\"node15\" class=\"node\">\n<title>node12</title>\n<polygon fill=\"none\" stroke=\"black\" points=\"506.4,-79.2 470.4,-79.2 470.4,-43.2 506.4,-43.2 506.4,-79.2\"/>\n<text text-anchor=\"middle\" x=\"488.4\" y=\"-57.5\" font-family=\"Times,serif\" font-size=\"14.00\">1</text>\n</g>\n<!-- node16&#45;&#45;node12 -->\n<g id=\"edge15\" class=\"edge\">\n<title>node16--node12</title>\n<path fill=\"none\" stroke=\"black\" d=\"M510.62,-89.77C508.04,-86.45 505.25,-82.87 502.56,-79.41\"/>\n</g>\n<!-- node15 -->\n<g id=\"node18\" class=\"node\">\n<title>node15</title>\n<ellipse fill=\"none\" stroke=\"black\" cx=\"589.2\" cy=\"-61.2\" rx=\"18\" ry=\"18\"/>\n<text text-anchor=\"middle\" x=\"589.2\" y=\"-57.5\" font-family=\"Times,serif\" font-size=\"14.00\">+</text>\n</g>\n<!-- node16&#45;&#45;node15 -->\n<g id=\"edge16\" class=\"edge\">\n<title>node16--node15</title>\n<path fill=\"none\" stroke=\"black\" d=\"M537.25,-94.6C548.25,-87.53 563.03,-78.02 574.01,-70.96\"/>\n</g>\n<!-- node13 -->\n<g id=\"node17\" class=\"node\">\n<title>node13</title>\n<polygon fill=\"none\" stroke=\"black\" points=\"573.6,-36 537.6,-36 537.6,0 573.6,0 573.6,-36\"/>\n<text text-anchor=\"middle\" x=\"555.6\" y=\"-14.3\" font-family=\"Times,serif\" font-size=\"14.00\">p</text>\n</g>\n<!-- node15&#45;&#45;node13 -->\n<g id=\"edge17\" class=\"edge\">\n<title>node15--node13</title>\n<path fill=\"none\" stroke=\"black\" d=\"M577.82,-46.57C575.24,-43.25 572.45,-39.67 569.76,-36.21\"/>\n</g>\n<!-- node14 -->\n<g id=\"node19\" class=\"node\">\n<title>node14</title>\n<polygon fill=\"none\" stroke=\"black\" points=\"640.8,-36 604.8,-36 604.8,0 640.8,0 640.8,-36\"/>\n<text text-anchor=\"middle\" x=\"622.8\" y=\"-14.3\" font-family=\"Times,serif\" font-size=\"14.00\">q</text>\n</g>\n<!-- node15&#45;&#45;node14 -->\n<g id=\"edge18\" class=\"edge\">\n<title>node15--node14</title>\n<path fill=\"none\" stroke=\"black\" d=\"M600.58,-46.57C603.16,-43.25 605.95,-39.67 608.64,-36.21\"/>\n</g>\n</g>\n</svg>"
          },
          "metadata": {}
        },
        {
          "output_type": "stream",
          "name": "stdout",
          "text": [
            "t1= 2/a\n",
            "t2= p*q\n",
            "t3= 2-t2\n",
            "t4= t1+t3\n",
            "t5= 1/n\n",
            "t6= p+q\n",
            "t7= 1/t6\n",
            "t8= t5+t7\n",
            "t9= t4*t8\n"
          ]
        }
      ]
    },
    {
      "cell_type": "code",
      "source": [
        "#Ejemplo adicional 2:\n",
        "Arbol(\"(((1/2)+(1/3)+(1/4))*(4+3+2+1))\").dibujar()\n",
        "probar(\"(((1/2)+(1/3)+(1/4))*(4+3+2+1))\")"
      ],
      "metadata": {
        "colab": {
          "base_uri": "https://localhost:8080/",
          "height": 467
        },
        "id": "ONY6xUaWmNLq",
        "outputId": "c88e1260-a2f2-433d-986f-2dab21edfa1e"
      },
      "execution_count": null,
      "outputs": [
        {
          "output_type": "display_data",
          "data": {
            "text/plain": [
              "<IPython.core.display.SVG object>"
            ],
            "image/svg+xml": "<svg xmlns=\"http://www.w3.org/2000/svg\" xmlns:xlink=\"http://www.w3.org/1999/xlink\" width=\"649pt\" height=\"217pt\" viewBox=\"0.00 0.00 648.80 216.80\">\n<g id=\"graph0\" class=\"graph\" transform=\"scale(1 1) rotate(0) translate(4 212.8)\">\n<title>Arbol</title>\n<polygon fill=\"white\" stroke=\"transparent\" points=\"-4,4 -4,-212.8 644.8,-212.8 644.8,4 -4,4\"/>\n<!-- node0 -->\n<g id=\"node1\" class=\"node\">\n<title>node0</title>\n<polygon fill=\"none\" stroke=\"black\" points=\"36,-36 0,-36 0,0 36,0 36,-36\"/>\n<text text-anchor=\"middle\" x=\"18\" y=\"-14.3\" font-family=\"Times,serif\" font-size=\"14.00\">1</text>\n</g>\n<!-- node2 -->\n<g id=\"node2\" class=\"node\">\n<title>node2</title>\n<ellipse fill=\"none\" stroke=\"black\" cx=\"51.6\" cy=\"-61.2\" rx=\"18\" ry=\"18\"/>\n<text text-anchor=\"middle\" x=\"51.6\" y=\"-57.5\" font-family=\"Times,serif\" font-size=\"14.00\">/</text>\n</g>\n<!-- node2&#45;&#45;node0 -->\n<g id=\"edge4\" class=\"edge\">\n<title>node2--node0</title>\n<path fill=\"none\" stroke=\"black\" d=\"M40.22,-46.57C37.64,-43.25 34.85,-39.67 32.16,-36.21\"/>\n</g>\n<!-- node1 -->\n<g id=\"node3\" class=\"node\">\n<title>node1</title>\n<polygon fill=\"none\" stroke=\"black\" points=\"103.2,-36 67.2,-36 67.2,0 103.2,0 103.2,-36\"/>\n<text text-anchor=\"middle\" x=\"85.2\" y=\"-14.3\" font-family=\"Times,serif\" font-size=\"14.00\">2</text>\n</g>\n<!-- node2&#45;&#45;node1 -->\n<g id=\"edge5\" class=\"edge\">\n<title>node2--node1</title>\n<path fill=\"none\" stroke=\"black\" d=\"M62.98,-46.57C65.56,-43.25 68.35,-39.67 71.04,-36.21\"/>\n</g>\n<!-- node6 -->\n<g id=\"node4\" class=\"node\">\n<title>node6</title>\n<ellipse fill=\"none\" stroke=\"black\" cx=\"118.8\" cy=\"-104.4\" rx=\"18\" ry=\"18\"/>\n<text text-anchor=\"middle\" x=\"118.8\" y=\"-100.7\" font-family=\"Times,serif\" font-size=\"14.00\">+</text>\n</g>\n<!-- node6&#45;&#45;node2 -->\n<g id=\"edge3\" class=\"edge\">\n<title>node6--node2</title>\n<path fill=\"none\" stroke=\"black\" d=\"M103.55,-94.6C92.55,-87.53 77.77,-78.02 66.79,-70.96\"/>\n</g>\n<!-- node5 -->\n<g id=\"node6\" class=\"node\">\n<title>node5</title>\n<ellipse fill=\"none\" stroke=\"black\" cx=\"186\" cy=\"-61.2\" rx=\"18\" ry=\"18\"/>\n<text text-anchor=\"middle\" x=\"186\" y=\"-57.5\" font-family=\"Times,serif\" font-size=\"14.00\">/</text>\n</g>\n<!-- node6&#45;&#45;node5 -->\n<g id=\"edge6\" class=\"edge\">\n<title>node6--node5</title>\n<path fill=\"none\" stroke=\"black\" d=\"M134.05,-94.6C145.05,-87.53 159.83,-78.02 170.81,-70.96\"/>\n</g>\n<!-- node3 -->\n<g id=\"node5\" class=\"node\">\n<title>node3</title>\n<polygon fill=\"none\" stroke=\"black\" points=\"170.4,-36 134.4,-36 134.4,0 170.4,0 170.4,-36\"/>\n<text text-anchor=\"middle\" x=\"152.4\" y=\"-14.3\" font-family=\"Times,serif\" font-size=\"14.00\">1</text>\n</g>\n<!-- node5&#45;&#45;node3 -->\n<g id=\"edge7\" class=\"edge\">\n<title>node5--node3</title>\n<path fill=\"none\" stroke=\"black\" d=\"M174.62,-46.57C172.04,-43.25 169.25,-39.67 166.56,-36.21\"/>\n</g>\n<!-- node4 -->\n<g id=\"node7\" class=\"node\">\n<title>node4</title>\n<polygon fill=\"none\" stroke=\"black\" points=\"237.6,-36 201.6,-36 201.6,0 237.6,0 237.6,-36\"/>\n<text text-anchor=\"middle\" x=\"219.6\" y=\"-14.3\" font-family=\"Times,serif\" font-size=\"14.00\">3</text>\n</g>\n<!-- node5&#45;&#45;node4 -->\n<g id=\"edge8\" class=\"edge\">\n<title>node5--node4</title>\n<path fill=\"none\" stroke=\"black\" d=\"M197.38,-46.57C199.96,-43.25 202.75,-39.67 205.44,-36.21\"/>\n</g>\n<!-- node10 -->\n<g id=\"node8\" class=\"node\">\n<title>node10</title>\n<ellipse fill=\"none\" stroke=\"black\" cx=\"253.2\" cy=\"-147.6\" rx=\"18\" ry=\"18\"/>\n<text text-anchor=\"middle\" x=\"253.2\" y=\"-143.9\" font-family=\"Times,serif\" font-size=\"14.00\">+</text>\n</g>\n<!-- node10&#45;&#45;node6 -->\n<g id=\"edge2\" class=\"edge\">\n<title>node10--node6</title>\n<path fill=\"none\" stroke=\"black\" d=\"M235.9,-142.04C210.1,-133.75 161.8,-118.22 136.03,-109.94\"/>\n</g>\n<!-- node9 -->\n<g id=\"node10\" class=\"node\">\n<title>node9</title>\n<ellipse fill=\"none\" stroke=\"black\" cx=\"320.4\" cy=\"-104.4\" rx=\"18\" ry=\"18\"/>\n<text text-anchor=\"middle\" x=\"320.4\" y=\"-100.7\" font-family=\"Times,serif\" font-size=\"14.00\">/</text>\n</g>\n<!-- node10&#45;&#45;node9 -->\n<g id=\"edge9\" class=\"edge\">\n<title>node10--node9</title>\n<path fill=\"none\" stroke=\"black\" d=\"M268.45,-137.8C279.45,-130.73 294.23,-121.22 305.21,-114.16\"/>\n</g>\n<!-- node7 -->\n<g id=\"node9\" class=\"node\">\n<title>node7</title>\n<polygon fill=\"none\" stroke=\"black\" points=\"304.8,-79.2 268.8,-79.2 268.8,-43.2 304.8,-43.2 304.8,-79.2\"/>\n<text text-anchor=\"middle\" x=\"286.8\" y=\"-57.5\" font-family=\"Times,serif\" font-size=\"14.00\">1</text>\n</g>\n<!-- node9&#45;&#45;node7 -->\n<g id=\"edge10\" class=\"edge\">\n<title>node9--node7</title>\n<path fill=\"none\" stroke=\"black\" d=\"M309.02,-89.77C306.44,-86.45 303.65,-82.87 300.96,-79.41\"/>\n</g>\n<!-- node8 -->\n<g id=\"node11\" class=\"node\">\n<title>node8</title>\n<polygon fill=\"none\" stroke=\"black\" points=\"372,-79.2 336,-79.2 336,-43.2 372,-43.2 372,-79.2\"/>\n<text text-anchor=\"middle\" x=\"354\" y=\"-57.5\" font-family=\"Times,serif\" font-size=\"14.00\">4</text>\n</g>\n<!-- node9&#45;&#45;node8 -->\n<g id=\"edge11\" class=\"edge\">\n<title>node9--node8</title>\n<path fill=\"none\" stroke=\"black\" d=\"M331.78,-89.77C334.36,-86.45 337.15,-82.87 339.84,-79.41\"/>\n</g>\n<!-- node18 -->\n<g id=\"node12\" class=\"node\">\n<title>node18</title>\n<ellipse fill=\"none\" stroke=\"black\" cx=\"387.6\" cy=\"-190.8\" rx=\"18\" ry=\"18\"/>\n<text text-anchor=\"middle\" x=\"387.6\" y=\"-187.1\" font-family=\"Times,serif\" font-size=\"14.00\">*</text>\n</g>\n<!-- node18&#45;&#45;node10 -->\n<g id=\"edge1\" class=\"edge\">\n<title>node18--node10</title>\n<path fill=\"none\" stroke=\"black\" d=\"M370.3,-185.24C344.5,-176.95 296.2,-161.42 270.43,-153.14\"/>\n</g>\n<!-- node17 -->\n<g id=\"node18\" class=\"node\">\n<title>node17</title>\n<ellipse fill=\"none\" stroke=\"black\" cx=\"589.2\" cy=\"-147.6\" rx=\"18\" ry=\"18\"/>\n<text text-anchor=\"middle\" x=\"589.2\" y=\"-143.9\" font-family=\"Times,serif\" font-size=\"14.00\">+</text>\n</g>\n<!-- node18&#45;&#45;node17 -->\n<g id=\"edge12\" class=\"edge\">\n<title>node18--node17</title>\n<path fill=\"none\" stroke=\"black\" d=\"M405.49,-186.97C443.75,-178.77 533.13,-159.62 571.35,-151.43\"/>\n</g>\n<!-- node11 -->\n<g id=\"node13\" class=\"node\">\n<title>node11</title>\n<polygon fill=\"none\" stroke=\"black\" points=\"439.2,-36 403.2,-36 403.2,0 439.2,0 439.2,-36\"/>\n<text text-anchor=\"middle\" x=\"421.2\" y=\"-14.3\" font-family=\"Times,serif\" font-size=\"14.00\">4</text>\n</g>\n<!-- node13 -->\n<g id=\"node14\" class=\"node\">\n<title>node13</title>\n<ellipse fill=\"none\" stroke=\"black\" cx=\"454.8\" cy=\"-61.2\" rx=\"18\" ry=\"18\"/>\n<text text-anchor=\"middle\" x=\"454.8\" y=\"-57.5\" font-family=\"Times,serif\" font-size=\"14.00\">+</text>\n</g>\n<!-- node13&#45;&#45;node11 -->\n<g id=\"edge15\" class=\"edge\">\n<title>node13--node11</title>\n<path fill=\"none\" stroke=\"black\" d=\"M443.42,-46.57C440.84,-43.25 438.05,-39.67 435.36,-36.21\"/>\n</g>\n<!-- node12 -->\n<g id=\"node15\" class=\"node\">\n<title>node12</title>\n<polygon fill=\"none\" stroke=\"black\" points=\"506.4,-36 470.4,-36 470.4,0 506.4,0 506.4,-36\"/>\n<text text-anchor=\"middle\" x=\"488.4\" y=\"-14.3\" font-family=\"Times,serif\" font-size=\"14.00\">3</text>\n</g>\n<!-- node13&#45;&#45;node12 -->\n<g id=\"edge16\" class=\"edge\">\n<title>node13--node12</title>\n<path fill=\"none\" stroke=\"black\" d=\"M466.18,-46.57C468.76,-43.25 471.55,-39.67 474.24,-36.21\"/>\n</g>\n<!-- node15 -->\n<g id=\"node16\" class=\"node\">\n<title>node15</title>\n<ellipse fill=\"none\" stroke=\"black\" cx=\"522\" cy=\"-104.4\" rx=\"18\" ry=\"18\"/>\n<text text-anchor=\"middle\" x=\"522\" y=\"-100.7\" font-family=\"Times,serif\" font-size=\"14.00\">+</text>\n</g>\n<!-- node15&#45;&#45;node13 -->\n<g id=\"edge14\" class=\"edge\">\n<title>node15--node13</title>\n<path fill=\"none\" stroke=\"black\" d=\"M506.75,-94.6C495.75,-87.53 480.97,-78.02 469.99,-70.96\"/>\n</g>\n<!-- node14 -->\n<g id=\"node17\" class=\"node\">\n<title>node14</title>\n<polygon fill=\"none\" stroke=\"black\" points=\"573.6,-79.2 537.6,-79.2 537.6,-43.2 573.6,-43.2 573.6,-79.2\"/>\n<text text-anchor=\"middle\" x=\"555.6\" y=\"-57.5\" font-family=\"Times,serif\" font-size=\"14.00\">2</text>\n</g>\n<!-- node15&#45;&#45;node14 -->\n<g id=\"edge17\" class=\"edge\">\n<title>node15--node14</title>\n<path fill=\"none\" stroke=\"black\" d=\"M533.38,-89.77C535.96,-86.45 538.75,-82.87 541.44,-79.41\"/>\n</g>\n<!-- node17&#45;&#45;node15 -->\n<g id=\"edge13\" class=\"edge\">\n<title>node17--node15</title>\n<path fill=\"none\" stroke=\"black\" d=\"M573.95,-137.8C562.95,-130.73 548.17,-121.22 537.19,-114.16\"/>\n</g>\n<!-- node16 -->\n<g id=\"node19\" class=\"node\">\n<title>node16</title>\n<polygon fill=\"none\" stroke=\"black\" points=\"640.8,-122.4 604.8,-122.4 604.8,-86.4 640.8,-86.4 640.8,-122.4\"/>\n<text text-anchor=\"middle\" x=\"622.8\" y=\"-100.7\" font-family=\"Times,serif\" font-size=\"14.00\">1</text>\n</g>\n<!-- node17&#45;&#45;node16 -->\n<g id=\"edge18\" class=\"edge\">\n<title>node17--node16</title>\n<path fill=\"none\" stroke=\"black\" d=\"M600.58,-132.97C603.16,-129.65 605.95,-126.07 608.64,-122.61\"/>\n</g>\n</g>\n</svg>"
          },
          "metadata": {}
        },
        {
          "output_type": "stream",
          "name": "stdout",
          "text": [
            "t1= 1/2\n",
            "t2= 1/3\n",
            "t3= t1+t2\n",
            "t4= 1/4\n",
            "t5= t3+t4\n",
            "t6= 4+3\n",
            "t7= t6+2\n",
            "t8= t7+1\n",
            "t9= t5*t8\n"
          ]
        }
      ]
    },
    {
      "cell_type": "code",
      "source": [
        "#Ejemplo adicional 3:\n",
        "Arbol(\"a+1+2+3+4+5+6+7+8+9\").dibujar()\n",
        "probar(\"a+1+2+3+4+5+6+7+8+9\")\n",
        "#agrupando a+1 luego efectivamente realiza 9 operaciones involucrando sumas"
      ],
      "metadata": {
        "colab": {
          "base_uri": "https://localhost:8080/",
          "height": 755
        },
        "id": "1MvCU8NsmNge",
        "outputId": "c546e247-6902-4c7c-f3e0-ccefe43f5788"
      },
      "execution_count": null,
      "outputs": [
        {
          "output_type": "display_data",
          "data": {
            "text/plain": [
              "<IPython.core.display.SVG object>"
            ],
            "image/svg+xml": "<svg xmlns=\"http://www.w3.org/2000/svg\" xmlns:xlink=\"http://www.w3.org/1999/xlink\" width=\"649pt\" height=\"433pt\" viewBox=\"0.00 0.00 648.80 432.80\">\n<g id=\"graph0\" class=\"graph\" transform=\"scale(1 1) rotate(0) translate(4 428.8)\">\n<title>Arbol</title>\n<polygon fill=\"white\" stroke=\"transparent\" points=\"-4,4 -4,-428.8 644.8,-428.8 644.8,4 -4,4\"/>\n<!-- node0 -->\n<g id=\"node1\" class=\"node\">\n<title>node0</title>\n<polygon fill=\"none\" stroke=\"black\" points=\"36,-36 0,-36 0,0 36,0 36,-36\"/>\n<text text-anchor=\"middle\" x=\"18\" y=\"-14.3\" font-family=\"Times,serif\" font-size=\"14.00\">a</text>\n</g>\n<!-- node2 -->\n<g id=\"node2\" class=\"node\">\n<title>node2</title>\n<ellipse fill=\"none\" stroke=\"black\" cx=\"51.6\" cy=\"-61.2\" rx=\"18\" ry=\"18\"/>\n<text text-anchor=\"middle\" x=\"51.6\" y=\"-57.5\" font-family=\"Times,serif\" font-size=\"14.00\">+</text>\n</g>\n<!-- node2&#45;&#45;node0 -->\n<g id=\"edge9\" class=\"edge\">\n<title>node2--node0</title>\n<path fill=\"none\" stroke=\"black\" d=\"M40.22,-46.57C37.64,-43.25 34.85,-39.67 32.16,-36.21\"/>\n</g>\n<!-- node1 -->\n<g id=\"node3\" class=\"node\">\n<title>node1</title>\n<polygon fill=\"none\" stroke=\"black\" points=\"103.2,-36 67.2,-36 67.2,0 103.2,0 103.2,-36\"/>\n<text text-anchor=\"middle\" x=\"85.2\" y=\"-14.3\" font-family=\"Times,serif\" font-size=\"14.00\">1</text>\n</g>\n<!-- node2&#45;&#45;node1 -->\n<g id=\"edge10\" class=\"edge\">\n<title>node2--node1</title>\n<path fill=\"none\" stroke=\"black\" d=\"M62.98,-46.57C65.56,-43.25 68.35,-39.67 71.04,-36.21\"/>\n</g>\n<!-- node4 -->\n<g id=\"node4\" class=\"node\">\n<title>node4</title>\n<ellipse fill=\"none\" stroke=\"black\" cx=\"118.8\" cy=\"-104.4\" rx=\"18\" ry=\"18\"/>\n<text text-anchor=\"middle\" x=\"118.8\" y=\"-100.7\" font-family=\"Times,serif\" font-size=\"14.00\">+</text>\n</g>\n<!-- node4&#45;&#45;node2 -->\n<g id=\"edge8\" class=\"edge\">\n<title>node4--node2</title>\n<path fill=\"none\" stroke=\"black\" d=\"M103.55,-94.6C92.55,-87.53 77.77,-78.02 66.79,-70.96\"/>\n</g>\n<!-- node3 -->\n<g id=\"node5\" class=\"node\">\n<title>node3</title>\n<polygon fill=\"none\" stroke=\"black\" points=\"170.4,-79.2 134.4,-79.2 134.4,-43.2 170.4,-43.2 170.4,-79.2\"/>\n<text text-anchor=\"middle\" x=\"152.4\" y=\"-57.5\" font-family=\"Times,serif\" font-size=\"14.00\">2</text>\n</g>\n<!-- node4&#45;&#45;node3 -->\n<g id=\"edge11\" class=\"edge\">\n<title>node4--node3</title>\n<path fill=\"none\" stroke=\"black\" d=\"M130.18,-89.77C132.76,-86.45 135.55,-82.87 138.24,-79.41\"/>\n</g>\n<!-- node6 -->\n<g id=\"node6\" class=\"node\">\n<title>node6</title>\n<ellipse fill=\"none\" stroke=\"black\" cx=\"186\" cy=\"-147.6\" rx=\"18\" ry=\"18\"/>\n<text text-anchor=\"middle\" x=\"186\" y=\"-143.9\" font-family=\"Times,serif\" font-size=\"14.00\">+</text>\n</g>\n<!-- node6&#45;&#45;node4 -->\n<g id=\"edge7\" class=\"edge\">\n<title>node6--node4</title>\n<path fill=\"none\" stroke=\"black\" d=\"M170.75,-137.8C159.75,-130.73 144.97,-121.22 133.99,-114.16\"/>\n</g>\n<!-- node5 -->\n<g id=\"node7\" class=\"node\">\n<title>node5</title>\n<polygon fill=\"none\" stroke=\"black\" points=\"237.6,-122.4 201.6,-122.4 201.6,-86.4 237.6,-86.4 237.6,-122.4\"/>\n<text text-anchor=\"middle\" x=\"219.6\" y=\"-100.7\" font-family=\"Times,serif\" font-size=\"14.00\">3</text>\n</g>\n<!-- node6&#45;&#45;node5 -->\n<g id=\"edge12\" class=\"edge\">\n<title>node6--node5</title>\n<path fill=\"none\" stroke=\"black\" d=\"M197.38,-132.97C199.96,-129.65 202.75,-126.07 205.44,-122.61\"/>\n</g>\n<!-- node8 -->\n<g id=\"node8\" class=\"node\">\n<title>node8</title>\n<ellipse fill=\"none\" stroke=\"black\" cx=\"253.2\" cy=\"-190.8\" rx=\"18\" ry=\"18\"/>\n<text text-anchor=\"middle\" x=\"253.2\" y=\"-187.1\" font-family=\"Times,serif\" font-size=\"14.00\">+</text>\n</g>\n<!-- node8&#45;&#45;node6 -->\n<g id=\"edge6\" class=\"edge\">\n<title>node8--node6</title>\n<path fill=\"none\" stroke=\"black\" d=\"M237.95,-181C226.95,-173.93 212.17,-164.42 201.19,-157.36\"/>\n</g>\n<!-- node7 -->\n<g id=\"node9\" class=\"node\">\n<title>node7</title>\n<polygon fill=\"none\" stroke=\"black\" points=\"304.8,-165.6 268.8,-165.6 268.8,-129.6 304.8,-129.6 304.8,-165.6\"/>\n<text text-anchor=\"middle\" x=\"286.8\" y=\"-143.9\" font-family=\"Times,serif\" font-size=\"14.00\">4</text>\n</g>\n<!-- node8&#45;&#45;node7 -->\n<g id=\"edge13\" class=\"edge\">\n<title>node8--node7</title>\n<path fill=\"none\" stroke=\"black\" d=\"M264.58,-176.17C267.16,-172.85 269.95,-169.27 272.64,-165.81\"/>\n</g>\n<!-- node10 -->\n<g id=\"node10\" class=\"node\">\n<title>node10</title>\n<ellipse fill=\"none\" stroke=\"black\" cx=\"320.4\" cy=\"-234\" rx=\"18\" ry=\"18\"/>\n<text text-anchor=\"middle\" x=\"320.4\" y=\"-230.3\" font-family=\"Times,serif\" font-size=\"14.00\">+</text>\n</g>\n<!-- node10&#45;&#45;node8 -->\n<g id=\"edge5\" class=\"edge\">\n<title>node10--node8</title>\n<path fill=\"none\" stroke=\"black\" d=\"M305.15,-224.2C294.15,-217.13 279.37,-207.62 268.39,-200.56\"/>\n</g>\n<!-- node9 -->\n<g id=\"node11\" class=\"node\">\n<title>node9</title>\n<polygon fill=\"none\" stroke=\"black\" points=\"372,-208.8 336,-208.8 336,-172.8 372,-172.8 372,-208.8\"/>\n<text text-anchor=\"middle\" x=\"354\" y=\"-187.1\" font-family=\"Times,serif\" font-size=\"14.00\">5</text>\n</g>\n<!-- node10&#45;&#45;node9 -->\n<g id=\"edge14\" class=\"edge\">\n<title>node10--node9</title>\n<path fill=\"none\" stroke=\"black\" d=\"M331.78,-219.37C334.36,-216.05 337.15,-212.47 339.84,-209.01\"/>\n</g>\n<!-- node12 -->\n<g id=\"node12\" class=\"node\">\n<title>node12</title>\n<ellipse fill=\"none\" stroke=\"black\" cx=\"387.6\" cy=\"-277.2\" rx=\"18\" ry=\"18\"/>\n<text text-anchor=\"middle\" x=\"387.6\" y=\"-273.5\" font-family=\"Times,serif\" font-size=\"14.00\">+</text>\n</g>\n<!-- node12&#45;&#45;node10 -->\n<g id=\"edge4\" class=\"edge\">\n<title>node12--node10</title>\n<path fill=\"none\" stroke=\"black\" d=\"M372.35,-267.4C361.35,-260.33 346.57,-250.82 335.59,-243.76\"/>\n</g>\n<!-- node11 -->\n<g id=\"node13\" class=\"node\">\n<title>node11</title>\n<polygon fill=\"none\" stroke=\"black\" points=\"439.2,-252 403.2,-252 403.2,-216 439.2,-216 439.2,-252\"/>\n<text text-anchor=\"middle\" x=\"421.2\" y=\"-230.3\" font-family=\"Times,serif\" font-size=\"14.00\">6</text>\n</g>\n<!-- node12&#45;&#45;node11 -->\n<g id=\"edge15\" class=\"edge\">\n<title>node12--node11</title>\n<path fill=\"none\" stroke=\"black\" d=\"M398.98,-262.57C401.56,-259.25 404.35,-255.67 407.04,-252.21\"/>\n</g>\n<!-- node14 -->\n<g id=\"node14\" class=\"node\">\n<title>node14</title>\n<ellipse fill=\"none\" stroke=\"black\" cx=\"454.8\" cy=\"-320.4\" rx=\"18\" ry=\"18\"/>\n<text text-anchor=\"middle\" x=\"454.8\" y=\"-316.7\" font-family=\"Times,serif\" font-size=\"14.00\">+</text>\n</g>\n<!-- node14&#45;&#45;node12 -->\n<g id=\"edge3\" class=\"edge\">\n<title>node14--node12</title>\n<path fill=\"none\" stroke=\"black\" d=\"M439.55,-310.6C428.55,-303.53 413.77,-294.02 402.79,-286.96\"/>\n</g>\n<!-- node13 -->\n<g id=\"node15\" class=\"node\">\n<title>node13</title>\n<polygon fill=\"none\" stroke=\"black\" points=\"506.4,-295.2 470.4,-295.2 470.4,-259.2 506.4,-259.2 506.4,-295.2\"/>\n<text text-anchor=\"middle\" x=\"488.4\" y=\"-273.5\" font-family=\"Times,serif\" font-size=\"14.00\">7</text>\n</g>\n<!-- node14&#45;&#45;node13 -->\n<g id=\"edge16\" class=\"edge\">\n<title>node14--node13</title>\n<path fill=\"none\" stroke=\"black\" d=\"M466.18,-305.77C468.76,-302.45 471.55,-298.87 474.24,-295.41\"/>\n</g>\n<!-- node16 -->\n<g id=\"node16\" class=\"node\">\n<title>node16</title>\n<ellipse fill=\"none\" stroke=\"black\" cx=\"522\" cy=\"-363.6\" rx=\"18\" ry=\"18\"/>\n<text text-anchor=\"middle\" x=\"522\" y=\"-359.9\" font-family=\"Times,serif\" font-size=\"14.00\">+</text>\n</g>\n<!-- node16&#45;&#45;node14 -->\n<g id=\"edge2\" class=\"edge\">\n<title>node16--node14</title>\n<path fill=\"none\" stroke=\"black\" d=\"M506.75,-353.8C495.75,-346.73 480.97,-337.22 469.99,-330.16\"/>\n</g>\n<!-- node15 -->\n<g id=\"node17\" class=\"node\">\n<title>node15</title>\n<polygon fill=\"none\" stroke=\"black\" points=\"573.6,-338.4 537.6,-338.4 537.6,-302.4 573.6,-302.4 573.6,-338.4\"/>\n<text text-anchor=\"middle\" x=\"555.6\" y=\"-316.7\" font-family=\"Times,serif\" font-size=\"14.00\">8</text>\n</g>\n<!-- node16&#45;&#45;node15 -->\n<g id=\"edge17\" class=\"edge\">\n<title>node16--node15</title>\n<path fill=\"none\" stroke=\"black\" d=\"M533.38,-348.97C535.96,-345.65 538.75,-342.07 541.44,-338.61\"/>\n</g>\n<!-- node18 -->\n<g id=\"node18\" class=\"node\">\n<title>node18</title>\n<ellipse fill=\"none\" stroke=\"black\" cx=\"589.2\" cy=\"-406.8\" rx=\"18\" ry=\"18\"/>\n<text text-anchor=\"middle\" x=\"589.2\" y=\"-403.1\" font-family=\"Times,serif\" font-size=\"14.00\">+</text>\n</g>\n<!-- node18&#45;&#45;node16 -->\n<g id=\"edge1\" class=\"edge\">\n<title>node18--node16</title>\n<path fill=\"none\" stroke=\"black\" d=\"M573.95,-397C562.95,-389.93 548.17,-380.42 537.19,-373.36\"/>\n</g>\n<!-- node17 -->\n<g id=\"node19\" class=\"node\">\n<title>node17</title>\n<polygon fill=\"none\" stroke=\"black\" points=\"640.8,-381.6 604.8,-381.6 604.8,-345.6 640.8,-345.6 640.8,-381.6\"/>\n<text text-anchor=\"middle\" x=\"622.8\" y=\"-359.9\" font-family=\"Times,serif\" font-size=\"14.00\">9</text>\n</g>\n<!-- node18&#45;&#45;node17 -->\n<g id=\"edge18\" class=\"edge\">\n<title>node18--node17</title>\n<path fill=\"none\" stroke=\"black\" d=\"M600.58,-392.17C603.16,-388.85 605.95,-385.27 608.64,-381.81\"/>\n</g>\n</g>\n</svg>"
          },
          "metadata": {}
        },
        {
          "output_type": "stream",
          "name": "stdout",
          "text": [
            "t1= a+1\n",
            "t2= t1+2\n",
            "t3= t2+3\n",
            "t4= t3+4\n",
            "t5= t4+5\n",
            "t6= t5+6\n",
            "t7= t6+7\n",
            "t8= t7+8\n",
            "t9= t8+9\n"
          ]
        }
      ]
    },
    {
      "cell_type": "markdown",
      "metadata": {
        "id": "bTEMKjsgF2oO"
      },
      "source": [
        "## Para los que quieran aprender más (opcional)"
      ]
    },
    {
      "cell_type": "markdown",
      "metadata": {
        "id": "Qo1CVQQLF2oP"
      },
      "source": [
        "Suponga que hay escasez de variables temporales, así que se le ha pedido que trate de reciclarlas lo más posible, y solo crear nuevas variables ``ti`` cuando sea estrictamente necesario. Por ejemplo, para la fórmula\n",
        "\n",
        "```\n",
        "((a+b)*c)+((d-e)/f)\n",
        "```\n",
        "\n",
        "si generamos código como lo hemos hecho en los ejemplos anteriores (código de la izquierda), se usan 5 variables temporales, pero el código de la derecha muestra que se puede evaluar usando solo 2:\n",
        "\n",
        "```\n",
        "t1=a+b               t1=a+b\n",
        "t2=t1+c              t1=t1*c\n",
        "t3=d-e               t2=d-e\n",
        "t4=t3/f              t2=t2/f\n",
        "t5=t2+t4             t1=t1+t2\n",
        "```\n",
        "\n",
        "Piense cómo se podría modificar su algoritmo para que use el mínimo posible de variables temporales.\n",
        "\n",
        "No es necesario que implemente nada, solo que considere cómo se podría hacer. Si se le ocurre algo interesante, puede escribirlo al final de su tarea, pero no es obligatorio ni influye en la nota. ¡La satisfacción de poder resolver el problema es su propia recompensa!"
      ]
    }
  ]
}