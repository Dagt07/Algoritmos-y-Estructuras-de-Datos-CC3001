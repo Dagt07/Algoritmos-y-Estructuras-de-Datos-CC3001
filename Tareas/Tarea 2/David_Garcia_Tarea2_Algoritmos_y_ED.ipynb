{
  "nbformat": 4,
  "nbformat_minor": 0,
  "metadata": {
    "colab": {
      "provenance": []
    },
    "kernelspec": {
      "name": "python3",
      "display_name": "Python 3"
    },
    "language_info": {
      "name": "python"
    }
  },
  "cells": [
    {
      "cell_type": "markdown",
      "source": [
        "# CC3001 Otoño 2023 Tarea  [David Garcia]\n",
        "\n",
        "# Calculadora\n",
        "\n",
        "### Profesores\n",
        "Sección 1 Iván Sipirán •\n",
        "Sección 2 Patricio Poblete •\n",
        "Sección 3 Nelson Baloian\n",
        "\n",
        "\n"
      ],
      "metadata": {
        "id": "v5Mdk3Z7uxJU"
      }
    },
    {
      "cell_type": "markdown",
      "source": [
        "# Enunciado\n",
        "\n",
        "Esta tarea consiste en desarrollar una calculadora de expresiones matemáticas al estilo Matlab o Maple, pero con capacidad de procesar un conjunto de comandos bien restringido. Algunos ejemplos de los comandos que acepta y de lo que debe imprimir en la salida van a continuación:\n",
        "\n",
        "|Entrada (lo que el usuario escribe)   | Salida(lo que imprime el programa)  |\n",
        "|---|---|\n",
        "|n=5   | 5  |\n",
        "|hanoi=2^n-1    |31   |\n",
        "|var_1 = 23 - 13 + hanoi * 2    |82   |\n",
        "|h2 = hanoi /2   |15   |\n",
        "|n   |5   |\n",
        "\n",
        "A continuación definimos más en detalle lo que se debe implementar:\n",
        "\n",
        "\n",
        "\n",
        "1.   Cada comando es de la forma \"variable=expresión\". El efecto es que se debe calcular la expresión de la derecha, guardar el resultado en la variable de la izquierda e imprimir el resultado en la salida. Si se omite desde el \"=\" hacia adelante (como en el último ejemplo), solo se imprime el valor de la variable. Las variables comienzan con letra y continúan con letras, dígitos y el signo \"_\".\n",
        "2.   Los operadores permitidos son \"+\",\"-\",\"*\", \"/\", \"^\".\n",
        "3.   Solo se trabaja con números enteros y todas las operaciones dan resultado entero (incluyendo la división, que trunca).\n",
        "4.   Para simplificar, no se puede usar paréntesis y la expresión se evalúa estrictamente de izquierda a derecha. Eso explica el resultado que se obtiene para \"var_1\".\n",
        "5.   Si se utiliza una variable que aún no ha sido definida, se debe dar un error\n",
        "\n",
        "      ERROR: variable indefinida \"...\"\n",
        "\n",
        "6.   Si la sintaxis no es correcta, se debe imprimir en la salida un mensaje de la forma\n",
        "\n",
        "      ERROR: al procesar \"...\"\n",
        "\n",
        "      donde el string que se imprime es la parte de la entrada desde el punto del error hacia adelante.\n",
        "\n",
        "\n",
        "Antes de empezar a escribir código, usted debe dibujar un diagrama de estados que describa la estructura de la entrada. Si le resulta más conveniente, pueden ser varios diagramas (por ejemplo, uno que describa la estructura de una variable, otro la de un número, otra la de un comando). Luego, a partir de ahí escriba el código que implementa esos diagramas. **Importante:** Su código debe ir procesando de un caracter a la vez, para este procesamiento no se puede utilizar funciones de Python que operen sobre strings de largo mayor que uno. Se recomienda tener una función que reciba un comando en un string y lo procese, y otra que se encargue de ir leyendo líneas una a una e invocando a la función antes mencionada para procesarlas.\n",
        "\n",
        "Para almacenar los nombres y valores de las variables, está permitido el uso de un diccionario de Python.\n",
        "\n",
        "En su entrega debe describir brevemente el problema, luego describir la estrategia de solución a través de los diagramas de estados, y a continuación el código ejecutable respectivo, agregando todas las explicaciones necesarias para que se entienda.\n",
        "\n"
      ],
      "metadata": {
        "id": "cOin18Qr5Y2U"
      }
    },
    {
      "cell_type": "code",
      "source": [
        "def operadoresValidos(string):\n",
        "  #Diccionario con operadores validos\n",
        "  operadores = {'+': int.__add__, '-': int.__sub__, '*': int.__mul__, '/': int.__trunc__, '^': int.__pow__}\n",
        "  for llave in operadores: #Recorremos el diccionario por llave, de modo que si por ejemplo la llave '+' coincide con el string que recibe la función,\n",
        "    if llave==string:      #devuelve su valor que la transforma en la función definida por defecto en python para operar con enteros __add__\n",
        "      return operadores[llave]\n",
        "\n",
        "  return False #Si no consiguio ninguno operador\n",
        "\n",
        "def numerosBase10(string):\n",
        "  if string == '0' or string == '1' or string == '2' or string == '3' or string == '4' or string == '5' or string == '6' or string == '7' or string == '8' or string == '9':\n",
        "    return int(string)\n",
        "  else:\n",
        "    return False #Si no consigue un numero\n"
      ],
      "metadata": {
        "id": "o2w3BxB2joez"
      },
      "execution_count": null,
      "outputs": []
    },
    {
      "cell_type": "code",
      "source": [
        "def operacionesListas(lista_num,lista_oper):\n",
        "  acumulado = lista_num[0] #Inicializamos en caso que la lista_num sea > a lista_oper (solo puede ser mayor por 1 de largo), falta analizar caso en que son igual tamaño\n",
        "\n",
        "  for i in range(1,len(lista_num)):\n",
        "    if lista_oper[i-1] == '+':\n",
        "      acumulado += lista_num[i]\n",
        "    if lista_oper[i-1] == '-':\n",
        "      acumulado -= lista_num[i]\n",
        "    if lista_oper[i-1] == '*':\n",
        "      acumulado *= lista_num[i]\n",
        "    if lista_oper[i-1] == '/':\n",
        "      acumulado = acumulado//lista_num[i] #Recordar que por enunciado estamos trabajando con division entera\n",
        "    if lista_oper[i-1] == '^':\n",
        "      acumulado = acumulado**lista_num[i]\n",
        "\n",
        "  return acumulado\n",
        "\n",
        "#23 - 13 + hanoi * 2\n",
        "lista1 = [23, 13, 31, 2]\n",
        "lista2 = ['-', '+', '*']\n",
        "#2^n-1\n",
        "lista3 = [2, 5, 1]\n",
        "lista4 = ['^', '-']\n",
        "\n",
        "assert(operacionesListas(lista1,lista2)) == 82\n",
        "assert(operacionesListas(lista3,lista4)) == 31"
      ],
      "metadata": {
        "id": "NlVMKM7fPekX"
      },
      "execution_count": null,
      "outputs": []
    },
    {
      "cell_type": "code",
      "source": [
        "# Esta función recibe un comando en string y el diccionario de variables. Con él,\n",
        "# procesa el comando, imprime el resultado de la expresion\n",
        "# y posiblemente modifica el diccionario. La función retorna el diccionario\n",
        "\n",
        "def procesar_comando(comando,dicc_var):\n",
        "  var_aux = ''\n",
        "  varinterna_aux = ''\n",
        "  num_aux = ''\n",
        "  operador_aux = ''\n",
        "  num = 0\n",
        "  contIgual = 0\n",
        "  lista_num = []\n",
        "  lista_oper = []\n",
        "\n",
        "  estado = \"Estado Variable\"\n",
        "  if comando == \"\":\n",
        "    return dicc_var #No se puede procesar la entrada \"\" ya que no tiene nada, si no, procesamos\n",
        "  else:\n",
        "    for j in range(0,len(comando)):\n",
        "\n",
        "      if estado == \"Estado Variable\" and contIgual == 0:\n",
        "        if comando[0].isdigit() == True or operadoresValidos(comando[0]) != False: #Errores para variables mal definidas\n",
        "          print('Error, variable mal definida')\n",
        "          return dicc_var\n",
        "        elif comando[j] != '=' and comando[j] != ' ':\n",
        "          var_aux += comando[j]\n",
        "          if j == (len(comando)-1) and  comando[j] != '=' and comando[j] != ' ': #condicion que si es solo n, es cuando se llama a imprimir variable\n",
        "            if var_aux in dicc_var:\n",
        "              print(var_aux + '= ' + str(dicc_var[var_aux])) #Printeamos el valor correspondiente a la var anteriormente guardada\n",
        "              return dicc_var #Necesitamos salir del ciclo\n",
        "            else:\n",
        "              print(var_aux + ' variable indefinida')\n",
        "              return dicc_var\n",
        "\n",
        "          continue #Este continue es debido a que como cambio a estado expresion y luego puedo cambiar a estado variable, necesito hacer que j corra y no se quede operando\n",
        "                  #abajo en este mismo ciclo y guardando una varinterna_aux igual a var_aux\n",
        "                  #Resumen, hace que varinterna_aux no interfiera con var_aux\n",
        "\n",
        "        elif comando[j] == '=':\n",
        "          estado = \"Estado Expresion\" #Cambio a \"Estado Expresion\", esto significa que terminé de definir la var original, todo lo demás corresponde a como le asigno valor\n",
        "          contIgual = 1 #Si vuelve a encontrar variables después no toca a var_aux que almacena la ver a definir\n",
        "\n",
        "\n",
        "      if estado == \"Estado Expresion\" or estado == \"Estado Numero\" or estado == \"Estado Operador\" or estado == \"Estado Variable\": #Borrar, no hace nada\n",
        "\n",
        "        #1era vez que entra a Expresion es para simbolizar que se acabo la definicion de variable\n",
        "        if estado == \"Estado Expresion\":\n",
        "          if operadoresValidos(comando[j]) != False: #Error: se encuentra error del tipo x=+2\n",
        "            print('Syntax Error, desde: ',comando[j-1:])\n",
        "            return dicc_var\n",
        "          #Caso para fixear cuando el ultimo elemento de la lista es numero y no se va a conseguir un operador luego para que no cambie a estado oper y muera el programa\n",
        "          if j == (len(comando)-1) and numerosBase10(comando[j]) != False and comando[j] != ' ': #Por eso j == len(lista)-1\n",
        "            num_aux += comando[j]\n",
        "            lista_num.append(int(num_aux))\n",
        "          else:\n",
        "            if numerosBase10(comando[j]) != False and comando[j] != ' ': #Es numero\n",
        "              estado = \"Estado Numero\"\n",
        "              num_aux += comando[j]\n",
        "            elif comando[j].isalpha() == True: #Es Letra\n",
        "              estado = \"Estado Variable\"\n",
        "              varinterna_aux += comando[j]\n",
        "            elif operadoresValidos(comando[j]) != False and comando[j] != ' ': #Es decir consiguio un operador y cambiamos a \"Estado Operador\"\n",
        "              estado = \"Estado Operador\"\n",
        "              lista_oper.append(comando[j])\n",
        "              lista_num.append(int(num_aux))\n",
        "              num_aux = '' #Reseteamos la var que nos guarda el numero en string\n",
        "\n",
        "        elif estado == \"Estado Numero\":\n",
        "\n",
        "          #Caso para fixear cuando el ultimo elemento de la lista es numero y no se va a conseguir un operador luego para que no cambie a estado oper y muera el programa\n",
        "          if j == (len(comando)-1) and numerosBase10(comando[j]) != False: #Por eso j == len(lista)-1\n",
        "            num_aux += comando[j]\n",
        "            lista_num.append(int(num_aux))\n",
        "          else: #Caso distinto del último\n",
        "            if comando[j].isalpha() == True: #Error sintaxis: = 1+1hanoi Por enunciado no se pueden definir variables que comiencen por numero\n",
        "              print('Syntax Error, variable mal definida desde: ',comando[j-1:])\n",
        "              return dicc_var\n",
        "            elif numerosBase10(comando[j]) != False and comando[j] != ' ': #Es numero\n",
        "              num_aux += comando[j]\n",
        "            elif operadoresValidos(comando[j]) != False and comando[j] != ' ': #Es decir consiguio un operador y cambiamos a \"Estado Operador\"\n",
        "              estado = \"Estado Operador\"\n",
        "              lista_oper.append(comando[j])\n",
        "              lista_num.append(int(num_aux))\n",
        "              num_aux = ''\n",
        "\n",
        "\n",
        "        elif estado == \"Estado Variable\": #Notar que gracias a contIgual = 1 sabe que no es la var que se define, sino algo dentro de la expresion, y la trata como variable interna\n",
        "\n",
        "          if comando[j] != ' ' and operadoresValidos(comando[j]) == False: #Que no sea operador ya que ahí terminaria de guardar la variable\n",
        "            varinterna_aux += comando[j]\n",
        "          elif operadoresValidos(comando[j]) != False and comando[j] != ' ': #Consiguio operador, termino de almacenar variable\n",
        "            estado = \"Estado Operador\"\n",
        "            lista_oper.append(comando[j])\n",
        "            if varinterna_aux in dicc_var: #Vemos si esta guardada en el dicc\n",
        "              lista_num.append(dicc_var[varinterna_aux]) #guardamos su valor numerico guardado previamente para utilizarlo en los calculos\n",
        "            else:\n",
        "              print('Error ' + varinterna_aux + ' variable indefinida')\n",
        "              return dicc_var\n",
        "\n",
        "        elif estado == \"Estado Operador\":\n",
        "\n",
        "          if operadoresValidos(comando[j]) != False: #Error: venimos de un operador ---> Doble operador\n",
        "            print('Syntax Error, desde: ',comando[j-1:])\n",
        "            return dicc_var\n",
        "          elif j == (len(comando)-1) and numerosBase10(comando[j]) != False and comando[j] != ' ':\n",
        "            num_aux += comando[j]\n",
        "            lista_num.append(int(num_aux))\n",
        "          else:\n",
        "            if numerosBase10(comando[j]) != False and comando[j] != ' ': #Es numero\n",
        "              estado = \"Estado Numero\"\n",
        "              num_aux += comando[j] #Como capturar el numero de la derecha si es más de 1\n",
        "            elif comando[j].isalpha() == True and comando[j] != ' ':\n",
        "              estado = \"Estado Variable\"\n",
        "              varinterna_aux += comando[j]\n",
        "\n",
        "  if estado == \"Estado Numero\": #Para tener en cuenta el ultimo numero de un string si al final termina con espacio y no operador: ej 'x=2+1 ' sin esta condicion no tendría en cuenta el 1\n",
        "    lista_num.append(int(num_aux))\n",
        "\n",
        "  #Esto se hace ya que cuando no se define variable si no hay operador no funca\n",
        "  if len(lista_oper) >= 1:\n",
        "    resultado = operacionesListas(lista_num,lista_oper)\n",
        "    #Ahora que tenemos la variable separada de su valor luego del caracter '=' podemos retornar el diccionario agregando este valor\n",
        "    dicc_var[var_aux] = resultado\n",
        "\n",
        "    #Imprimimos el resultado de la expresión, como pide el enunciado\n",
        "    print(var_aux + '= ' + str(resultado))\n",
        "  else:\n",
        "    #Solo se definio la variable ya que no hubo operadores detectados en la expresión\n",
        "    dicc_var[var_aux] = lista_num[0]\n",
        "    print(var_aux + '= ' + str(lista_num[0]))\n",
        "\n",
        "  return dicc_var\n",
        ""
      ],
      "metadata": {
        "id": "IZphnHBw7-7o"
      },
      "execution_count": null,
      "outputs": []
    },
    {
      "cell_type": "code",
      "source": [
        "def calculadora(lista_comandos):\n",
        "\n",
        "  # Este diccionario se inicializa cuando se usa la calculadora\n",
        "  vars = dict()\n",
        "\n",
        "  # Se procesan todos los comandos de la lista (lista de string)\n",
        "  for i in range(0, len(lista_comandos)):\n",
        "    vars = procesar_comando(lista_comandos[i], vars)\n",
        "    # Este diccionario almacena las variables que se vayan definiendo en la calculadora\n",
        "\n",
        "  print('Diccionario :',vars)\n"
      ],
      "metadata": {
        "id": "_ErWcgGJfhQZ"
      },
      "execution_count": null,
      "outputs": []
    },
    {
      "cell_type": "markdown",
      "source": [
        "## Ejemplo 1"
      ],
      "metadata": {
        "id": "bJRKyHEBtUN5"
      }
    },
    {
      "cell_type": "code",
      "source": [
        "\n",
        "# EJEMPLO 1:\n",
        "\n",
        "#Lista del ejemplo\n",
        "lista = [\"n=5\",\"hanoi= 2^n-1\",\"var_1=23-13+hanoi*2\",\"h2=hanoi/2\",\"\",\"n\"] #Ejemplo sin espacios #OJO en realidad esta bien que no guarde el n en el ultimo lugar de la lista, pues la \"variable\" ya existe\n",
        "#lista = [\"n= 5\",\"hanoi=   2 ^n-1 \",\"var_1 = 23 - 13 +hanoi* 2\",\"h2= hanoi /2\",\"\",\"n\"] #Ejemplo con espacios\n",
        "print\n",
        "#Otras listas con funcionamiento correcto y también errores de los tipos solicitados\n",
        "#lista = [\"n=1+1\",\"x=2+2*3/2\",\"n\"]\n",
        "#lista = [\"n=5\",\"1var=1+1\",\"x=2+/2\",\"y=1var\",\"hanoi=2^n-1\"]\n",
        "\n",
        "calculadora(lista)\n"
      ],
      "metadata": {
        "id": "0w4sivX3tWiH",
        "colab": {
          "base_uri": "https://localhost:8080/"
        },
        "outputId": "bdc343c8-fb89-459d-d7c8-f0bfe7048b5d"
      },
      "execution_count": null,
      "outputs": [
        {
          "output_type": "stream",
          "name": "stdout",
          "text": [
            "n= 5\n",
            "hanoi= 31\n",
            "var_1= 82\n",
            "h2= 15\n",
            "n= 5\n",
            "Diccionario : {'n': 5, 'hanoi': 31, 'var_1': 82, 'h2': 15}\n"
          ]
        }
      ]
    },
    {
      "cell_type": "markdown",
      "source": [
        "El resultado del ejemplo anterior debería imprimir en pantalla\n",
        "\n",
        "   5\n",
        "\n",
        "   31\n",
        "\n",
        "   82\n",
        "\n",
        "   15\n",
        "\n",
        "   5\n",
        "\n"
      ],
      "metadata": {
        "id": "ImyhxzK8g3Aw"
      }
    },
    {
      "cell_type": "markdown",
      "source": [
        "## Ejemplo 2"
      ],
      "metadata": {
        "id": "FD6ugFUBta2Q"
      }
    },
    {
      "cell_type": "code",
      "source": [
        "# EJEMPLO 1:\n",
        "lista = [\"n=5\",\"hanoi=2^n-1\",\"var_1 = 23 - 13 + hanoi2 * 2\",\"h2 = hanoi /2\",\"\",\"n\"]\n",
        "calculadora(lista)"
      ],
      "metadata": {
        "id": "omeD7qbcthMR",
        "colab": {
          "base_uri": "https://localhost:8080/"
        },
        "outputId": "caf99efc-840f-4f6c-a232-147b80c91f29"
      },
      "execution_count": null,
      "outputs": [
        {
          "output_type": "stream",
          "name": "stdout",
          "text": [
            "n= 5\n",
            "hanoi= 31\n",
            "Error hanoi2 variable indefinida\n",
            "h2= 15\n",
            "n= 5\n",
            "Diccionario : {'n': 5, 'hanoi': 31, 'h2': 15}\n"
          ]
        }
      ]
    },
    {
      "cell_type": "markdown",
      "source": [
        "El resultado del ejemplo anterior debería imprimir en pantalla\n",
        "\n",
        "5\n",
        "\n",
        "31\n",
        "\n",
        "ERROR: variable indefinida \"hanoi2\"\n",
        "\n",
        "15\n",
        "\n",
        "5"
      ],
      "metadata": {
        "id": "Ig7zCv9stmXy"
      }
    },
    {
      "cell_type": "markdown",
      "source": [
        "## ¿Qué hay que entregar?\n",
        "\n",
        "Usted debe crear una copia de este documento (del menú seleccionar \"Archivo\" o \"File\" y de ahi la opción \"guardar copia en Drive\" o \"save a copy in Drive\"). Este nuevo documento (notebook de Colab) es el que debe modificar para luego compartirlo con la opción \"Cualquier usuario de internet con este enlace puede ver esto\" (o “Anyone on the internet with this link can view”). Esta opción se encuentra disponible en la parte superior derecha de su notebook, en el botón \"Compartir\" (o \"Share\"). Una vez que tenga disponible el enlace, colocarlo en la descripción de la entrega de su tarea. No olvide colocar su nombre dentro del notebook."
      ],
      "metadata": {
        "id": "4Qy53sN95hDF"
      }
    }
  ]
}